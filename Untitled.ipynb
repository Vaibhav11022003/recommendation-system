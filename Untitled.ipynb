{
 "cells": [
  {
   "cell_type": "code",
   "execution_count": 671,
   "id": "c49321a6",
   "metadata": {},
   "outputs": [],
   "source": [
    "import numpy as np\n",
    "import pandas as pd\n",
    "import ast\n",
    "\n",
    "import matplotlib.pyplot as plt\n",
    "import seaborn as sns\n",
    "\n",
    "from sklearn.metrics.pairwise import cosine_similarity\n",
    "from sklearn.feature_extraction.text import TfidfVectorizer\n",
    "from sklearn.feature_extraction.text import CountVectorizer\n",
    "\n",
    "from scipy.sparse import coo_matrix"
   ]
  },
  {
   "cell_type": "code",
   "execution_count": 672,
   "id": "fef8c706",
   "metadata": {},
   "outputs": [],
   "source": [
    "df=pd.read_csv('data.tsv',sep='\\t')"
   ]
  },
  {
   "cell_type": "code",
   "execution_count": 673,
   "id": "cc424644",
   "metadata": {},
   "outputs": [
    {
     "name": "stdout",
     "output_type": "stream",
     "text": [
      "<class 'pandas.core.frame.DataFrame'>\n",
      "RangeIndex: 5000 entries, 0 to 4999\n",
      "Data columns (total 32 columns):\n",
      " #   Column                           Non-Null Count  Dtype  \n",
      "---  ------                           --------------  -----  \n",
      " 0   Uniq Id                          5000 non-null   object \n",
      " 1   Crawl Timestamp                  5000 non-null   object \n",
      " 2   Dataset Origin                   0 non-null      float64\n",
      " 3   Product Id                       5000 non-null   object \n",
      " 4   Product Barcode                  0 non-null      float64\n",
      " 5   Product Company Type Source      5000 non-null   object \n",
      " 6   Product Brand Source             139 non-null    object \n",
      " 7   Product Brand Normalised Source  139 non-null    object \n",
      " 8   Product Name Source              139 non-null    object \n",
      " 9   Match Rank                       0 non-null      float64\n",
      " 10  Match Score                      0 non-null      float64\n",
      " 11  Match Type                       0 non-null      float64\n",
      " 12  Retailer                         5000 non-null   object \n",
      " 13  Product Category                 4990 non-null   object \n",
      " 14  Product Brand                    4987 non-null   object \n",
      " 15  Product Name                     5000 non-null   object \n",
      " 16  Product Price                    4958 non-null   float64\n",
      " 17  Sku                              0 non-null      float64\n",
      " 18  Upc                              0 non-null      float64\n",
      " 19  Product Url                      5000 non-null   object \n",
      " 20  Market                           5000 non-null   object \n",
      " 21  Product Description              3873 non-null   object \n",
      " 22  Product Currency                 5000 non-null   object \n",
      " 23  Product Available Inventory      5000 non-null   int64  \n",
      " 24  Product Image Url                5000 non-null   object \n",
      " 25  Product Model Number             0 non-null      float64\n",
      " 26  Product Tags                     5000 non-null   object \n",
      " 27  Product Contents                 0 non-null      float64\n",
      " 28  Product Rating                   2194 non-null   float64\n",
      " 29  Product Reviews Count            3346 non-null   float64\n",
      " 30  Bsr                              0 non-null      float64\n",
      " 31  Joining Key                      5000 non-null   object \n",
      "dtypes: float64(13), int64(1), object(18)\n",
      "memory usage: 1.2+ MB\n"
     ]
    }
   ],
   "source": [
    "df.info()"
   ]
  },
  {
   "cell_type": "code",
   "execution_count": 669,
   "id": "eae74202",
   "metadata": {},
   "outputs": [],
   "source": [
    "df.head(5).to_csv('dummy.csv',index=False)"
   ]
  },
  {
   "cell_type": "code",
   "execution_count": 579,
   "id": "43ab2758",
   "metadata": {},
   "outputs": [
    {
     "data": {
      "text/plain": [
       "array(['USD'], dtype=object)"
      ]
     },
     "execution_count": 579,
     "metadata": {},
     "output_type": "execute_result"
    }
   ],
   "source": [
    "df['Product Currency'].unique()"
   ]
  },
  {
   "cell_type": "code",
   "execution_count": 580,
   "id": "57114e02",
   "metadata": {},
   "outputs": [
    {
     "data": {
      "text/plain": [
       "'The Art of Shaving Forming Paste, infused with Juniper Essential Oil, delivers a soft, sculpted look to your style. The medium hold, matte finish is great for styles that need just a bit of styling to keep their look neat and natural. Directions for use: Apply a small amount onto wet or dry hair. Work through hair and style as usual. The Art of Shaving Mens Hair Styling Paste Juniper Scent, 2 fl oz Medium hold Matte finish Made with Juniper Essential Oil Juniper Scent For wet or dry styling'"
      ]
     },
     "execution_count": 580,
     "metadata": {},
     "output_type": "execute_result"
    }
   ],
   "source": [
    "df['Product Description'][10]"
   ]
  },
  {
   "cell_type": "code",
   "execution_count": 581,
   "id": "a29daa6f",
   "metadata": {},
   "outputs": [
    {
     "data": {
      "text/plain": [
       "'The Art of Shaving Mens Hair Styling Gel, Juniper Scent, 2 Fl Oz'"
      ]
     },
     "execution_count": 581,
     "metadata": {},
     "output_type": "execute_result"
    }
   ],
   "source": [
    "df['Product Name'][10]"
   ]
  },
  {
   "cell_type": "code",
   "execution_count": 582,
   "id": "470b92df",
   "metadata": {},
   "outputs": [
    {
     "data": {
      "text/plain": [
       "'The Art of Shaving'"
      ]
     },
     "execution_count": 582,
     "metadata": {},
     "output_type": "execute_result"
    }
   ],
   "source": [
    "df['Product Brand'][10]"
   ]
  },
  {
   "cell_type": "code",
   "execution_count": 583,
   "id": "8100cc8e",
   "metadata": {},
   "outputs": [
    {
     "data": {
      "text/plain": [
       "'Seasonal > Last Minute Gifts'"
      ]
     },
     "execution_count": 583,
     "metadata": {},
     "output_type": "execute_result"
    }
   ],
   "source": [
    "df['Product Category'][10]"
   ]
  },
  {
   "cell_type": "markdown",
   "id": "fbeffaa0",
   "metadata": {},
   "source": [
    "PREPROCESSING"
   ]
  },
  {
   "cell_type": "code",
   "execution_count": 584,
   "id": "36ccf9f8",
   "metadata": {},
   "outputs": [
    {
     "data": {
      "text/plain": [
       "Uniq Id                               0\n",
       "Crawl Timestamp                       0\n",
       "Dataset Origin                     5000\n",
       "Product Id                            0\n",
       "Product Barcode                    5000\n",
       "Product Company Type Source           0\n",
       "Product Brand Source               4861\n",
       "Product Brand Normalised Source    4861\n",
       "Product Name Source                4861\n",
       "Match Rank                         5000\n",
       "Match Score                        5000\n",
       "Match Type                         5000\n",
       "Retailer                              0\n",
       "Product Category                     10\n",
       "Product Brand                        13\n",
       "Product Name                          0\n",
       "Product Price                        42\n",
       "Sku                                5000\n",
       "Upc                                5000\n",
       "Product Url                           0\n",
       "Market                                0\n",
       "Product Description                1127\n",
       "Product Currency                      0\n",
       "Product Available Inventory           0\n",
       "Product Image Url                     0\n",
       "Product Model Number               5000\n",
       "Product Tags                          0\n",
       "Product Contents                   5000\n",
       "Product Rating                     2806\n",
       "Product Reviews Count              1654\n",
       "Bsr                                5000\n",
       "Joining Key                           0\n",
       "dtype: int64"
      ]
     },
     "execution_count": 584,
     "metadata": {},
     "output_type": "execute_result"
    }
   ],
   "source": [
    "df.isnull().sum()"
   ]
  },
  {
   "cell_type": "code",
   "execution_count": 585,
   "id": "4fb4247c",
   "metadata": {},
   "outputs": [],
   "source": [
    "# feature selection\n",
    "#Uniq Id\n",
    "#Product Id\n",
    "#Product Description\n",
    "#Product Category\n",
    "#Product Brand\n",
    "#Product Name"
   ]
  },
  {
   "cell_type": "code",
   "execution_count": 685,
   "id": "2ff32fd0",
   "metadata": {},
   "outputs": [],
   "source": [
    "product=df[['Uniq Id','Product Id','Product Tags','Product Description','Product Name','Product Category','Product Brand','Product Image Url']]"
   ]
  },
  {
   "cell_type": "code",
   "execution_count": 686,
   "id": "6b194c3b",
   "metadata": {},
   "outputs": [],
   "source": [
    "product.columns=['id','pid','tags','description','name','category','brand','image_url']"
   ]
  },
  {
   "cell_type": "code",
   "execution_count": 687,
   "id": "422ab7c7",
   "metadata": {},
   "outputs": [
    {
     "name": "stdout",
     "output_type": "stream",
     "text": [
      "<class 'pandas.core.frame.DataFrame'>\n",
      "RangeIndex: 5000 entries, 0 to 4999\n",
      "Data columns (total 8 columns):\n",
      " #   Column       Non-Null Count  Dtype \n",
      "---  ------       --------------  ----- \n",
      " 0   id           5000 non-null   object\n",
      " 1   pid          5000 non-null   object\n",
      " 2   tags         5000 non-null   object\n",
      " 3   description  3873 non-null   object\n",
      " 4   name         5000 non-null   object\n",
      " 5   category     4990 non-null   object\n",
      " 6   brand        4987 non-null   object\n",
      " 7   image_url    5000 non-null   object\n",
      "dtypes: object(8)\n",
      "memory usage: 312.6+ KB\n"
     ]
    }
   ],
   "source": [
    "product.info()"
   ]
  },
  {
   "cell_type": "code",
   "execution_count": 688,
   "id": "e5b22379",
   "metadata": {},
   "outputs": [
    {
     "data": {
      "text/plain": [
       "id                0\n",
       "pid               0\n",
       "tags              0\n",
       "description    1127\n",
       "name              0\n",
       "category         10\n",
       "brand            13\n",
       "image_url         0\n",
       "dtype: int64"
      ]
     },
     "execution_count": 688,
     "metadata": {},
     "output_type": "execute_result"
    }
   ],
   "source": [
    "product.isnull().sum()"
   ]
  },
  {
   "cell_type": "code",
   "execution_count": 690,
   "id": "8ff34bb1",
   "metadata": {
    "scrolled": true
   },
   "outputs": [
    {
     "name": "stderr",
     "output_type": "stream",
     "text": [
      "C:\\Users\\Lenovo\\AppData\\Local\\Temp\\ipykernel_24960\\653993272.py:1: SettingWithCopyWarning: \n",
      "A value is trying to be set on a copy of a slice from a DataFrame\n",
      "\n",
      "See the caveats in the documentation: https://pandas.pydata.org/pandas-docs/stable/user_guide/indexing.html#returning-a-view-versus-a-copy\n",
      "  product['description'].fillna('',inplace=True)\n",
      "C:\\Users\\Lenovo\\AppData\\Local\\Temp\\ipykernel_24960\\653993272.py:2: SettingWithCopyWarning: \n",
      "A value is trying to be set on a copy of a slice from a DataFrame\n",
      "\n",
      "See the caveats in the documentation: https://pandas.pydata.org/pandas-docs/stable/user_guide/indexing.html#returning-a-view-versus-a-copy\n",
      "  product['category'].fillna('',inplace=True)\n",
      "C:\\Users\\Lenovo\\AppData\\Local\\Temp\\ipykernel_24960\\653993272.py:3: SettingWithCopyWarning: \n",
      "A value is trying to be set on a copy of a slice from a DataFrame\n",
      "\n",
      "See the caveats in the documentation: https://pandas.pydata.org/pandas-docs/stable/user_guide/indexing.html#returning-a-view-versus-a-copy\n",
      "  product['brand'].fillna('',inplace=True)\n"
     ]
    }
   ],
   "source": [
    "product['description'].fillna('',inplace=True)\n",
    "product['category'].fillna('',inplace=True)\n",
    "product['brand'].fillna('',inplace=True)"
   ]
  },
  {
   "cell_type": "code",
   "execution_count": 692,
   "id": "30d2373d",
   "metadata": {},
   "outputs": [
    {
     "data": {
      "text/plain": [
       "id             0\n",
       "pid            0\n",
       "tags           0\n",
       "description    0\n",
       "name           0\n",
       "category       0\n",
       "brand          0\n",
       "image_url      0\n",
       "dtype: int64"
      ]
     },
     "execution_count": 692,
     "metadata": {},
     "output_type": "execute_result"
    }
   ],
   "source": [
    "product.isnull().sum()"
   ]
  },
  {
   "cell_type": "code",
   "execution_count": 693,
   "id": "fe88b861",
   "metadata": {},
   "outputs": [
    {
     "data": {
      "text/plain": [
       "0"
      ]
     },
     "execution_count": 693,
     "metadata": {},
     "output_type": "execute_result"
    }
   ],
   "source": [
    "product.duplicated().sum()"
   ]
  },
  {
   "cell_type": "code",
   "execution_count": 677,
   "id": "085ab7d1",
   "metadata": {},
   "outputs": [
    {
     "data": {
      "text/plain": [
       "0"
      ]
     },
     "execution_count": 677,
     "metadata": {},
     "output_type": "execute_result"
    }
   ],
   "source": [
    "product['rating'].isnull().sum()"
   ]
  },
  {
   "cell_type": "code",
   "execution_count": 694,
   "id": "ea9d07aa",
   "metadata": {},
   "outputs": [
    {
     "name": "stderr",
     "output_type": "stream",
     "text": [
      "C:\\Users\\Lenovo\\AppData\\Local\\Temp\\ipykernel_24960\\487119287.py:1: SettingWithCopyWarning: \n",
      "A value is trying to be set on a copy of a slice from a DataFrame.\n",
      "Try using .loc[row_indexer,col_indexer] = value instead\n",
      "\n",
      "See the caveats in the documentation: https://pandas.pydata.org/pandas-docs/stable/user_guide/indexing.html#returning-a-view-versus-a-copy\n",
      "  product['id']=product['id'].str.extract(r'(\\d+)').astype(float)\n",
      "C:\\Users\\Lenovo\\AppData\\Local\\Temp\\ipykernel_24960\\487119287.py:2: SettingWithCopyWarning: \n",
      "A value is trying to be set on a copy of a slice from a DataFrame.\n",
      "Try using .loc[row_indexer,col_indexer] = value instead\n",
      "\n",
      "See the caveats in the documentation: https://pandas.pydata.org/pandas-docs/stable/user_guide/indexing.html#returning-a-view-versus-a-copy\n",
      "  product['pid']=product['pid'].str.extract(r'(\\d+)').astype(float)\n"
     ]
    }
   ],
   "source": [
    "product['id']=product['id'].str.extract(r'(\\d+)').astype(float)\n",
    "product['pid']=product['pid'].str.extract(r'(\\d+)').astype(float)"
   ]
  },
  {
   "cell_type": "code",
   "execution_count": 695,
   "id": "08f51558",
   "metadata": {},
   "outputs": [
    {
     "data": {
      "text/html": [
       "<div>\n",
       "<style scoped>\n",
       "    .dataframe tbody tr th:only-of-type {\n",
       "        vertical-align: middle;\n",
       "    }\n",
       "\n",
       "    .dataframe tbody tr th {\n",
       "        vertical-align: top;\n",
       "    }\n",
       "\n",
       "    .dataframe thead th {\n",
       "        text-align: right;\n",
       "    }\n",
       "</style>\n",
       "<table border=\"1\" class=\"dataframe\">\n",
       "  <thead>\n",
       "    <tr style=\"text-align: right;\">\n",
       "      <th></th>\n",
       "      <th>id</th>\n",
       "      <th>pid</th>\n",
       "      <th>tags</th>\n",
       "      <th>description</th>\n",
       "      <th>name</th>\n",
       "      <th>category</th>\n",
       "      <th>brand</th>\n",
       "      <th>image_url</th>\n",
       "    </tr>\n",
       "  </thead>\n",
       "  <tbody>\n",
       "    <tr>\n",
       "      <th>0</th>\n",
       "      <td>1.705737e+09</td>\n",
       "      <td>2.0</td>\n",
       "      <td>OPI Infinite Shine, Nail Lacquer Nail Polish, ...</td>\n",
       "      <td></td>\n",
       "      <td>OPI Infinite Shine, Nail Lacquer Nail Polish, ...</td>\n",
       "      <td>Premium Beauty &gt; Premium Makeup &gt; Premium Nail...</td>\n",
       "      <td>OPI</td>\n",
       "      <td>https://i5.walmartimages.com/asr/0e1f4c51-c1a4...</td>\n",
       "    </tr>\n",
       "    <tr>\n",
       "      <th>1</th>\n",
       "      <td>9.500000e+01</td>\n",
       "      <td>76.0</td>\n",
       "      <td>Nice 'n Easy Permanent Color, 111 Natural Medi...</td>\n",
       "      <td>Pack of 3 Pack of 3 for the UPC: 381519000201 ...</td>\n",
       "      <td>Nice n Easy Permanent Color, 111 Natural Mediu...</td>\n",
       "      <td>Beauty &gt; Hair Care &gt; Hair Color &gt; Auburn Hair ...</td>\n",
       "      <td>Nice'n Easy</td>\n",
       "      <td>https://i5.walmartimages.com/asr/9c8e42e4-13a5...</td>\n",
       "    </tr>\n",
       "    <tr>\n",
       "      <th>2</th>\n",
       "      <td>8.000000e+00</td>\n",
       "      <td>8.0</td>\n",
       "      <td>Clairol Nice 'N Easy Permanent Color 7/106A Na...</td>\n",
       "      <td>This Clairol Nice N Easy Permanent Color gives...</td>\n",
       "      <td>Clairol Nice N Easy Permanent Color 7/106A Nat...</td>\n",
       "      <td>Beauty &gt; Hair Care &gt; Hair Color &gt; Permanent Ha...</td>\n",
       "      <td>Clairol</td>\n",
       "      <td>https://i5.walmartimages.com/asr/e3a601c2-6a2b...</td>\n",
       "    </tr>\n",
       "    <tr>\n",
       "      <th>3</th>\n",
       "      <td>4.000000e+00</td>\n",
       "      <td>3.0</td>\n",
       "      <td>Kokie Professional Matte Lipstick, Hot Berry, ...</td>\n",
       "      <td>Calling all matte lip lovers! Indulge in our r...</td>\n",
       "      <td>Kokie Professional Matte Lipstick, Hot Berry, ...</td>\n",
       "      <td>Beauty &gt; Makeup &gt; Lip</td>\n",
       "      <td>Kokie Cosmetics</td>\n",
       "      <td>https://i5.walmartimages.com/asr/25b4b467-bc61...</td>\n",
       "    </tr>\n",
       "    <tr>\n",
       "      <th>4</th>\n",
       "      <td>9.900000e+02</td>\n",
       "      <td>3.0</td>\n",
       "      <td>Gillette TRAC II Plus Razor Blade Refills, Fit...</td>\n",
       "      <td>In 1971, Gillette introduced the Trac II razor...</td>\n",
       "      <td>Gillette TRAC II Plus Razor Blade Refills, Fit...</td>\n",
       "      <td>Seasonal &gt; Stock Up Essentials &gt; Personal Care...</td>\n",
       "      <td>Gillette</td>\n",
       "      <td>https://i5.walmartimages.com/asr/1a2ebb06-cd01...</td>\n",
       "    </tr>\n",
       "    <tr>\n",
       "      <th>...</th>\n",
       "      <td>...</td>\n",
       "      <td>...</td>\n",
       "      <td>...</td>\n",
       "      <td>...</td>\n",
       "      <td>...</td>\n",
       "      <td>...</td>\n",
       "      <td>...</td>\n",
       "      <td>...</td>\n",
       "    </tr>\n",
       "    <tr>\n",
       "      <th>4995</th>\n",
       "      <td>2.771000e+03</td>\n",
       "      <td>208.0</td>\n",
       "      <td>Garden Mint Room Spray (Double Strength), 4 ou...</td>\n",
       "      <td>Garden Mint is a lovely blend of spearmint, le...</td>\n",
       "      <td>Garden Mint Room Spray (Double Strength), 4 ou...</td>\n",
       "      <td>Household Essentials &gt; Air Fresheners &gt; Spray ...</td>\n",
       "      <td>Eclectic Lady</td>\n",
       "      <td>https://i5.walmartimages.com/asr/0e0416ae-6b70...</td>\n",
       "    </tr>\n",
       "    <tr>\n",
       "      <th>4996</th>\n",
       "      <td>0.000000e+00</td>\n",
       "      <td>1.0</td>\n",
       "      <td>Garnier Nutrisse Nourishing Hair Color Creme (...</td>\n",
       "      <td>Garnier Nutrisse Nourishing Hair Color Creme B...</td>\n",
       "      <td>Garnier Nutrisse Nourishing Hair Color Creme (...</td>\n",
       "      <td>Beauty &gt; Hair Care &gt; Hair Color &gt; Permanent Ha...</td>\n",
       "      <td>Garnier</td>\n",
       "      <td>https://i5.walmartimages.com/asr/24d7a837-51f8...</td>\n",
       "    </tr>\n",
       "    <tr>\n",
       "      <th>4997</th>\n",
       "      <td>3.400000e+01</td>\n",
       "      <td>96.0</td>\n",
       "      <td>Nail File Electric Drill, 6 in 1 Professional ...</td>\n",
       "      <td>Multifunctional : Our nail drill kit come with...</td>\n",
       "      <td>Nail File Electric Drill, 6 in 1 Professional ...</td>\n",
       "      <td>Beauty &gt; Makeup &gt; Nails</td>\n",
       "      <td>Stoneway</td>\n",
       "      <td>https://i5.walmartimages.com/asr/d6202179-2c93...</td>\n",
       "    </tr>\n",
       "    <tr>\n",
       "      <th>4998</th>\n",
       "      <td>9.000000e+00</td>\n",
       "      <td>7.0</td>\n",
       "      <td>Creed Love In Black Hair And Body Wash 6.8oz/2...</td>\n",
       "      <td></td>\n",
       "      <td>Creed Love In Black Hair And Body Wash 6.8oz/2...</td>\n",
       "      <td>Premium Beauty &gt; Premium Bath &amp; Body &gt; Premium...</td>\n",
       "      <td>Creed</td>\n",
       "      <td>https://i5.walmartimages.com/asr/3dc99239-66d2...</td>\n",
       "    </tr>\n",
       "    <tr>\n",
       "      <th>4999</th>\n",
       "      <td>0.000000e+00</td>\n",
       "      <td>1.0</td>\n",
       "      <td>Foundation, Wal-mart, Walmart.com</td>\n",
       "      <td>Mousse foundation that gives you a smooth clea...</td>\n",
       "      <td>Foundation</td>\n",
       "      <td>Beauty &gt; Makeup &gt; Face Makeup &gt; Face Makeup Br...</td>\n",
       "      <td>COVERGIRL</td>\n",
       "      <td>https://i5.walmartimages.com/asr/a76122fd-322a...</td>\n",
       "    </tr>\n",
       "  </tbody>\n",
       "</table>\n",
       "<p>5000 rows × 8 columns</p>\n",
       "</div>"
      ],
      "text/plain": [
       "                id    pid                                               tags  \\\n",
       "0     1.705737e+09    2.0  OPI Infinite Shine, Nail Lacquer Nail Polish, ...   \n",
       "1     9.500000e+01   76.0  Nice 'n Easy Permanent Color, 111 Natural Medi...   \n",
       "2     8.000000e+00    8.0  Clairol Nice 'N Easy Permanent Color 7/106A Na...   \n",
       "3     4.000000e+00    3.0  Kokie Professional Matte Lipstick, Hot Berry, ...   \n",
       "4     9.900000e+02    3.0  Gillette TRAC II Plus Razor Blade Refills, Fit...   \n",
       "...            ...    ...                                                ...   \n",
       "4995  2.771000e+03  208.0  Garden Mint Room Spray (Double Strength), 4 ou...   \n",
       "4996  0.000000e+00    1.0  Garnier Nutrisse Nourishing Hair Color Creme (...   \n",
       "4997  3.400000e+01   96.0  Nail File Electric Drill, 6 in 1 Professional ...   \n",
       "4998  9.000000e+00    7.0  Creed Love In Black Hair And Body Wash 6.8oz/2...   \n",
       "4999  0.000000e+00    1.0                  Foundation, Wal-mart, Walmart.com   \n",
       "\n",
       "                                            description  \\\n",
       "0                                                         \n",
       "1     Pack of 3 Pack of 3 for the UPC: 381519000201 ...   \n",
       "2     This Clairol Nice N Easy Permanent Color gives...   \n",
       "3     Calling all matte lip lovers! Indulge in our r...   \n",
       "4     In 1971, Gillette introduced the Trac II razor...   \n",
       "...                                                 ...   \n",
       "4995  Garden Mint is a lovely blend of spearmint, le...   \n",
       "4996  Garnier Nutrisse Nourishing Hair Color Creme B...   \n",
       "4997  Multifunctional : Our nail drill kit come with...   \n",
       "4998                                                      \n",
       "4999  Mousse foundation that gives you a smooth clea...   \n",
       "\n",
       "                                                   name  \\\n",
       "0     OPI Infinite Shine, Nail Lacquer Nail Polish, ...   \n",
       "1     Nice n Easy Permanent Color, 111 Natural Mediu...   \n",
       "2     Clairol Nice N Easy Permanent Color 7/106A Nat...   \n",
       "3     Kokie Professional Matte Lipstick, Hot Berry, ...   \n",
       "4     Gillette TRAC II Plus Razor Blade Refills, Fit...   \n",
       "...                                                 ...   \n",
       "4995  Garden Mint Room Spray (Double Strength), 4 ou...   \n",
       "4996  Garnier Nutrisse Nourishing Hair Color Creme (...   \n",
       "4997  Nail File Electric Drill, 6 in 1 Professional ...   \n",
       "4998  Creed Love In Black Hair And Body Wash 6.8oz/2...   \n",
       "4999                                         Foundation   \n",
       "\n",
       "                                               category            brand  \\\n",
       "0     Premium Beauty > Premium Makeup > Premium Nail...              OPI   \n",
       "1     Beauty > Hair Care > Hair Color > Auburn Hair ...      Nice'n Easy   \n",
       "2     Beauty > Hair Care > Hair Color > Permanent Ha...          Clairol   \n",
       "3                                 Beauty > Makeup > Lip  Kokie Cosmetics   \n",
       "4     Seasonal > Stock Up Essentials > Personal Care...         Gillette   \n",
       "...                                                 ...              ...   \n",
       "4995  Household Essentials > Air Fresheners > Spray ...    Eclectic Lady   \n",
       "4996  Beauty > Hair Care > Hair Color > Permanent Ha...          Garnier   \n",
       "4997                            Beauty > Makeup > Nails         Stoneway   \n",
       "4998  Premium Beauty > Premium Bath & Body > Premium...            Creed   \n",
       "4999  Beauty > Makeup > Face Makeup > Face Makeup Br...        COVERGIRL   \n",
       "\n",
       "                                              image_url  \n",
       "0     https://i5.walmartimages.com/asr/0e1f4c51-c1a4...  \n",
       "1     https://i5.walmartimages.com/asr/9c8e42e4-13a5...  \n",
       "2     https://i5.walmartimages.com/asr/e3a601c2-6a2b...  \n",
       "3     https://i5.walmartimages.com/asr/25b4b467-bc61...  \n",
       "4     https://i5.walmartimages.com/asr/1a2ebb06-cd01...  \n",
       "...                                                 ...  \n",
       "4995  https://i5.walmartimages.com/asr/0e0416ae-6b70...  \n",
       "4996  https://i5.walmartimages.com/asr/24d7a837-51f8...  \n",
       "4997  https://i5.walmartimages.com/asr/d6202179-2c93...  \n",
       "4998  https://i5.walmartimages.com/asr/3dc99239-66d2...  \n",
       "4999  https://i5.walmartimages.com/asr/a76122fd-322a...  \n",
       "\n",
       "[5000 rows x 8 columns]"
      ]
     },
     "execution_count": 695,
     "metadata": {},
     "output_type": "execute_result"
    }
   ],
   "source": [
    "product"
   ]
  },
  {
   "cell_type": "code",
   "execution_count": 697,
   "id": "52f066e9",
   "metadata": {},
   "outputs": [
    {
     "name": "stdout",
     "output_type": "stream",
     "text": [
      "1721 1697\n"
     ]
    }
   ],
   "source": [
    "users_count=product['id'].unique().size\n",
    "items_count=product['pid'].unique().size\n",
    "print(users_count,items_count)"
   ]
  },
  {
   "cell_type": "code",
   "execution_count": 698,
   "id": "28e15443",
   "metadata": {},
   "outputs": [
    {
     "ename": "KeyError",
     "evalue": "'rating'",
     "output_type": "error",
     "traceback": [
      "\u001b[1;31m---------------------------------------------------------------------------\u001b[0m",
      "\u001b[1;31mKeyError\u001b[0m                                  Traceback (most recent call last)",
      "\u001b[1;32m~\\AppData\\Local\\Temp\\ipykernel_24960\\4100244241.py\u001b[0m in \u001b[0;36m<module>\u001b[1;34m\u001b[0m\n\u001b[1;32m----> 1\u001b[1;33m \u001b[0mheatmap_data\u001b[0m\u001b[1;33m=\u001b[0m\u001b[0mproduct\u001b[0m\u001b[1;33m.\u001b[0m\u001b[0mpivot_table\u001b[0m\u001b[1;33m(\u001b[0m\u001b[1;34m'id'\u001b[0m\u001b[1;33m,\u001b[0m\u001b[1;34m'rating'\u001b[0m\u001b[1;33m)\u001b[0m\u001b[1;33m\u001b[0m\u001b[1;33m\u001b[0m\u001b[0m\n\u001b[0m\u001b[0;32m      2\u001b[0m \u001b[0msns\u001b[0m\u001b[1;33m.\u001b[0m\u001b[0mheatmap\u001b[0m\u001b[1;33m(\u001b[0m\u001b[0mheatmap_data\u001b[0m\u001b[1;33m,\u001b[0m\u001b[0mannot\u001b[0m\u001b[1;33m=\u001b[0m\u001b[1;32mTrue\u001b[0m\u001b[1;33m,\u001b[0m\u001b[0mfmt\u001b[0m\u001b[1;33m=\u001b[0m\u001b[1;34m'g'\u001b[0m\u001b[1;33m,\u001b[0m\u001b[0mcmap\u001b[0m\u001b[1;33m=\u001b[0m\u001b[1;34m'coolwarm'\u001b[0m\u001b[1;33m,\u001b[0m\u001b[0mcbar\u001b[0m\u001b[1;33m=\u001b[0m\u001b[1;32mTrue\u001b[0m\u001b[1;33m)\u001b[0m\u001b[1;33m\u001b[0m\u001b[1;33m\u001b[0m\u001b[0m\n",
      "\u001b[1;32m~\\anaconda3\\lib\\site-packages\\pandas\\core\\frame.py\u001b[0m in \u001b[0;36mpivot_table\u001b[1;34m(self, values, index, columns, aggfunc, fill_value, margins, dropna, margins_name, observed, sort)\u001b[0m\n\u001b[0;32m   8045\u001b[0m         \u001b[1;32mfrom\u001b[0m \u001b[0mpandas\u001b[0m\u001b[1;33m.\u001b[0m\u001b[0mcore\u001b[0m\u001b[1;33m.\u001b[0m\u001b[0mreshape\u001b[0m\u001b[1;33m.\u001b[0m\u001b[0mpivot\u001b[0m \u001b[1;32mimport\u001b[0m \u001b[0mpivot_table\u001b[0m\u001b[1;33m\u001b[0m\u001b[1;33m\u001b[0m\u001b[0m\n\u001b[0;32m   8046\u001b[0m \u001b[1;33m\u001b[0m\u001b[0m\n\u001b[1;32m-> 8047\u001b[1;33m         return pivot_table(\n\u001b[0m\u001b[0;32m   8048\u001b[0m             \u001b[0mself\u001b[0m\u001b[1;33m,\u001b[0m\u001b[1;33m\u001b[0m\u001b[1;33m\u001b[0m\u001b[0m\n\u001b[0;32m   8049\u001b[0m             \u001b[0mvalues\u001b[0m\u001b[1;33m=\u001b[0m\u001b[0mvalues\u001b[0m\u001b[1;33m,\u001b[0m\u001b[1;33m\u001b[0m\u001b[1;33m\u001b[0m\u001b[0m\n",
      "\u001b[1;32m~\\anaconda3\\lib\\site-packages\\pandas\\core\\reshape\\pivot.py\u001b[0m in \u001b[0;36mpivot_table\u001b[1;34m(data, values, index, columns, aggfunc, fill_value, margins, dropna, margins_name, observed, sort)\u001b[0m\n\u001b[0;32m     93\u001b[0m         \u001b[1;32mreturn\u001b[0m \u001b[0mtable\u001b[0m\u001b[1;33m.\u001b[0m\u001b[0m__finalize__\u001b[0m\u001b[1;33m(\u001b[0m\u001b[0mdata\u001b[0m\u001b[1;33m,\u001b[0m \u001b[0mmethod\u001b[0m\u001b[1;33m=\u001b[0m\u001b[1;34m\"pivot_table\"\u001b[0m\u001b[1;33m)\u001b[0m\u001b[1;33m\u001b[0m\u001b[1;33m\u001b[0m\u001b[0m\n\u001b[0;32m     94\u001b[0m \u001b[1;33m\u001b[0m\u001b[0m\n\u001b[1;32m---> 95\u001b[1;33m     table = __internal_pivot_table(\n\u001b[0m\u001b[0;32m     96\u001b[0m         \u001b[0mdata\u001b[0m\u001b[1;33m,\u001b[0m\u001b[1;33m\u001b[0m\u001b[1;33m\u001b[0m\u001b[0m\n\u001b[0;32m     97\u001b[0m         \u001b[0mvalues\u001b[0m\u001b[1;33m,\u001b[0m\u001b[1;33m\u001b[0m\u001b[1;33m\u001b[0m\u001b[0m\n",
      "\u001b[1;32m~\\anaconda3\\lib\\site-packages\\pandas\\core\\reshape\\pivot.py\u001b[0m in \u001b[0;36m__internal_pivot_table\u001b[1;34m(data, values, index, columns, aggfunc, fill_value, margins, dropna, margins_name, observed, sort)\u001b[0m\n\u001b[0;32m    162\u001b[0m         \u001b[0mvalues\u001b[0m \u001b[1;33m=\u001b[0m \u001b[0mlist\u001b[0m\u001b[1;33m(\u001b[0m\u001b[0mvalues\u001b[0m\u001b[1;33m)\u001b[0m\u001b[1;33m\u001b[0m\u001b[1;33m\u001b[0m\u001b[0m\n\u001b[0;32m    163\u001b[0m \u001b[1;33m\u001b[0m\u001b[0m\n\u001b[1;32m--> 164\u001b[1;33m     \u001b[0mgrouped\u001b[0m \u001b[1;33m=\u001b[0m \u001b[0mdata\u001b[0m\u001b[1;33m.\u001b[0m\u001b[0mgroupby\u001b[0m\u001b[1;33m(\u001b[0m\u001b[0mkeys\u001b[0m\u001b[1;33m,\u001b[0m \u001b[0mobserved\u001b[0m\u001b[1;33m=\u001b[0m\u001b[0mobserved\u001b[0m\u001b[1;33m,\u001b[0m \u001b[0msort\u001b[0m\u001b[1;33m=\u001b[0m\u001b[0msort\u001b[0m\u001b[1;33m)\u001b[0m\u001b[1;33m\u001b[0m\u001b[1;33m\u001b[0m\u001b[0m\n\u001b[0m\u001b[0;32m    165\u001b[0m     \u001b[0magged\u001b[0m \u001b[1;33m=\u001b[0m \u001b[0mgrouped\u001b[0m\u001b[1;33m.\u001b[0m\u001b[0magg\u001b[0m\u001b[1;33m(\u001b[0m\u001b[0maggfunc\u001b[0m\u001b[1;33m)\u001b[0m\u001b[1;33m\u001b[0m\u001b[1;33m\u001b[0m\u001b[0m\n\u001b[0;32m    166\u001b[0m     \u001b[1;32mif\u001b[0m \u001b[0mdropna\u001b[0m \u001b[1;32mand\u001b[0m \u001b[0misinstance\u001b[0m\u001b[1;33m(\u001b[0m\u001b[0magged\u001b[0m\u001b[1;33m,\u001b[0m \u001b[0mABCDataFrame\u001b[0m\u001b[1;33m)\u001b[0m \u001b[1;32mand\u001b[0m \u001b[0mlen\u001b[0m\u001b[1;33m(\u001b[0m\u001b[0magged\u001b[0m\u001b[1;33m.\u001b[0m\u001b[0mcolumns\u001b[0m\u001b[1;33m)\u001b[0m\u001b[1;33m:\u001b[0m\u001b[1;33m\u001b[0m\u001b[1;33m\u001b[0m\u001b[0m\n",
      "\u001b[1;32m~\\anaconda3\\lib\\site-packages\\pandas\\core\\frame.py\u001b[0m in \u001b[0;36mgroupby\u001b[1;34m(self, by, axis, level, as_index, sort, group_keys, squeeze, observed, dropna)\u001b[0m\n\u001b[0;32m   7719\u001b[0m         \u001b[1;31m# error: Argument \"squeeze\" to \"DataFrameGroupBy\" has incompatible type\u001b[0m\u001b[1;33m\u001b[0m\u001b[1;33m\u001b[0m\u001b[0m\n\u001b[0;32m   7720\u001b[0m         \u001b[1;31m# \"Union[bool, NoDefault]\"; expected \"bool\"\u001b[0m\u001b[1;33m\u001b[0m\u001b[1;33m\u001b[0m\u001b[0m\n\u001b[1;32m-> 7721\u001b[1;33m         return DataFrameGroupBy(\n\u001b[0m\u001b[0;32m   7722\u001b[0m             \u001b[0mobj\u001b[0m\u001b[1;33m=\u001b[0m\u001b[0mself\u001b[0m\u001b[1;33m,\u001b[0m\u001b[1;33m\u001b[0m\u001b[1;33m\u001b[0m\u001b[0m\n\u001b[0;32m   7723\u001b[0m             \u001b[0mkeys\u001b[0m\u001b[1;33m=\u001b[0m\u001b[0mby\u001b[0m\u001b[1;33m,\u001b[0m\u001b[1;33m\u001b[0m\u001b[1;33m\u001b[0m\u001b[0m\n",
      "\u001b[1;32m~\\anaconda3\\lib\\site-packages\\pandas\\core\\groupby\\groupby.py\u001b[0m in \u001b[0;36m__init__\u001b[1;34m(self, obj, keys, axis, level, grouper, exclusions, selection, as_index, sort, group_keys, squeeze, observed, mutated, dropna)\u001b[0m\n\u001b[0;32m    880\u001b[0m             \u001b[1;32mfrom\u001b[0m \u001b[0mpandas\u001b[0m\u001b[1;33m.\u001b[0m\u001b[0mcore\u001b[0m\u001b[1;33m.\u001b[0m\u001b[0mgroupby\u001b[0m\u001b[1;33m.\u001b[0m\u001b[0mgrouper\u001b[0m \u001b[1;32mimport\u001b[0m \u001b[0mget_grouper\u001b[0m\u001b[1;33m\u001b[0m\u001b[1;33m\u001b[0m\u001b[0m\n\u001b[0;32m    881\u001b[0m \u001b[1;33m\u001b[0m\u001b[0m\n\u001b[1;32m--> 882\u001b[1;33m             grouper, exclusions, obj = get_grouper(\n\u001b[0m\u001b[0;32m    883\u001b[0m                 \u001b[0mobj\u001b[0m\u001b[1;33m,\u001b[0m\u001b[1;33m\u001b[0m\u001b[1;33m\u001b[0m\u001b[0m\n\u001b[0;32m    884\u001b[0m                 \u001b[0mkeys\u001b[0m\u001b[1;33m,\u001b[0m\u001b[1;33m\u001b[0m\u001b[1;33m\u001b[0m\u001b[0m\n",
      "\u001b[1;32m~\\anaconda3\\lib\\site-packages\\pandas\\core\\groupby\\grouper.py\u001b[0m in \u001b[0;36mget_grouper\u001b[1;34m(obj, key, axis, level, sort, observed, mutated, validate, dropna)\u001b[0m\n\u001b[0;32m    880\u001b[0m                 \u001b[0min_axis\u001b[0m\u001b[1;33m,\u001b[0m \u001b[0mlevel\u001b[0m\u001b[1;33m,\u001b[0m \u001b[0mgpr\u001b[0m \u001b[1;33m=\u001b[0m \u001b[1;32mFalse\u001b[0m\u001b[1;33m,\u001b[0m \u001b[0mgpr\u001b[0m\u001b[1;33m,\u001b[0m \u001b[1;32mNone\u001b[0m\u001b[1;33m\u001b[0m\u001b[1;33m\u001b[0m\u001b[0m\n\u001b[0;32m    881\u001b[0m             \u001b[1;32melse\u001b[0m\u001b[1;33m:\u001b[0m\u001b[1;33m\u001b[0m\u001b[1;33m\u001b[0m\u001b[0m\n\u001b[1;32m--> 882\u001b[1;33m                 \u001b[1;32mraise\u001b[0m \u001b[0mKeyError\u001b[0m\u001b[1;33m(\u001b[0m\u001b[0mgpr\u001b[0m\u001b[1;33m)\u001b[0m\u001b[1;33m\u001b[0m\u001b[1;33m\u001b[0m\u001b[0m\n\u001b[0m\u001b[0;32m    883\u001b[0m         \u001b[1;32melif\u001b[0m \u001b[0misinstance\u001b[0m\u001b[1;33m(\u001b[0m\u001b[0mgpr\u001b[0m\u001b[1;33m,\u001b[0m \u001b[0mGrouper\u001b[0m\u001b[1;33m)\u001b[0m \u001b[1;32mand\u001b[0m \u001b[0mgpr\u001b[0m\u001b[1;33m.\u001b[0m\u001b[0mkey\u001b[0m \u001b[1;32mis\u001b[0m \u001b[1;32mnot\u001b[0m \u001b[1;32mNone\u001b[0m\u001b[1;33m:\u001b[0m\u001b[1;33m\u001b[0m\u001b[1;33m\u001b[0m\u001b[0m\n\u001b[0;32m    884\u001b[0m             \u001b[1;31m# Add key to exclusions\u001b[0m\u001b[1;33m\u001b[0m\u001b[1;33m\u001b[0m\u001b[0m\n",
      "\u001b[1;31mKeyError\u001b[0m: 'rating'"
     ]
    }
   ],
   "source": [
    "heatmap_data=product.pivot_table('id','rating')\n",
    "sns.heatmap(heatmap_data,annot=True,fmt='g',cmap='coolwarm',cbar=True)"
   ]
  },
  {
   "cell_type": "code",
   "execution_count": 699,
   "id": "276304bb",
   "metadata": {},
   "outputs": [
    {
     "data": {
      "image/png": "[encoded data removed]",
      "text/plain": [
       "<Figure size 1200x500 with 2 Axes>"
      ]
     },
     "metadata": {},
     "output_type": "display_data"
    }
   ],
   "source": [
    "plt.figure(figsize=(12,5))\n",
    "plt.subplot(1,2,1)\n",
    "product['id'].value_counts().hist(bins=10,edgecolor='k')\n",
    "plt.xlabel('Interaction per User')\n",
    "plt.ylabel('Number of Users')\n",
    "plt.subplot(1,2,2)\n",
    "product['pid'].value_counts().hist(bins=10,edgecolor='k')\n",
    "product['id'].value_counts().hist(bins=10,edgecolor='k')\n",
    "plt.xlabel('Interaction per Item')\n",
    "plt.ylabel('Number of Items')\n",
    "plt.savefig('user-item-interaction.png')\n",
    "plt.show()"
   ]
  },
  {
   "cell_type": "code",
   "execution_count": 700,
   "id": "d9b7f0ef",
   "metadata": {},
   "outputs": [
    {
     "data": {
      "image/png": "[encoded data removed]",
      "text/plain": [
       "<Figure size 1000x600 with 1 Axes>"
      ]
     },
     "metadata": {},
     "output_type": "display_data"
    }
   ],
   "source": [
    "rating_counts= df.dropna(subset=['Product Rating'])['Product Rating'].round().astype(int).clip(0, 10).value_counts().sort_index()\n",
    "\n",
    "# Plot\n",
    "plt.figure(figsize=(10, 6))\n",
    "rating_counts.plot(kind='bar', color='skyblue')\n",
    "plt.xlabel('Rating')\n",
    "plt.ylabel('Number of Users')\n",
    "plt.title('Number of Users by Rating')\n",
    "plt.xticks(rotation=0)  # Rotate x labels for readability\n",
    "plt.grid(axis='y', linestyle='--', alpha=0.7)\n",
    "plt.savefig('rating-bar-graph.png')\n",
    "plt.show()\n"
   ]
  },
  {
   "cell_type": "code",
   "execution_count": 701,
   "id": "ef9c293c",
   "metadata": {},
   "outputs": [
    {
     "data": {
      "image/png": "[encoded data removed]",
      "text/plain": [
       "<Figure size 640x480 with 1 Axes>"
      ]
     },
     "metadata": {},
     "output_type": "display_data"
    }
   ],
   "source": [
    "# most buyed products\n",
    "most_buyed=product['pid'].value_counts().head(5)\n",
    "most_buyed.plot(kind='bar',color='green')\n",
    "plt.xlabel('produt id')\n",
    "plt.ylabel('nnumber of purchases')\n",
    "plt.savefig('most-buyed-products.png')\n",
    "plt.show()"
   ]
  },
  {
   "cell_type": "code",
   "execution_count": 702,
   "id": "0e54ed3a",
   "metadata": {},
   "outputs": [
    {
     "data": {
      "text/plain": [
       "0       OPI Infinite Shine, Nail Lacquer Nail Polish, ...\n",
       "1       Nice 'n Easy Permanent Color, 111 Natural Medi...\n",
       "2       Clairol Nice 'N Easy Permanent Color 7/106A Na...\n",
       "3       Kokie Professional Matte Lipstick, Hot Berry, ...\n",
       "4       Gillette TRAC II Plus Razor Blade Refills, Fit...\n",
       "                              ...                        \n",
       "4995    Garden Mint Room Spray (Double Strength), 4 ou...\n",
       "4996    Garnier Nutrisse Nourishing Hair Color Creme (...\n",
       "4997    Nail File Electric Drill, 6 in 1 Professional ...\n",
       "4998    Creed Love In Black Hair And Body Wash 6.8oz/2...\n",
       "4999                    Foundation, Wal-mart, Walmart.com\n",
       "Name: tags, Length: 5000, dtype: object"
      ]
     },
     "execution_count": 702,
     "metadata": {},
     "output_type": "execute_result"
    }
   ],
   "source": [
    "product['tags']"
   ]
  },
  {
   "cell_type": "code",
   "execution_count": 602,
   "id": "f0f6b6b2",
   "metadata": {},
   "outputs": [],
   "source": [
    "import spacy\n"
   ]
  },
  {
   "cell_type": "code",
   "execution_count": 603,
   "id": "d0da3cc4",
   "metadata": {},
   "outputs": [
    {
     "name": "stdout",
     "output_type": "stream",
     "text": [
      "Requirement already satisfied: spacy in c:\\users\\lenovo\\anaconda3\\lib\\site-packages (3.7.5)\n",
      "Requirement already satisfied: catalogue<2.1.0,>=2.0.6 in c:\\users\\lenovo\\anaconda3\\lib\\site-packages (from spacy) (2.0.10)\n",
      "Requirement already satisfied: jinja2 in c:\\users\\lenovo\\anaconda3\\lib\\site-packages (from spacy) (2.11.3)\n",
      "Requirement already satisfied: murmurhash<1.1.0,>=0.28.0 in c:\\users\\lenovo\\anaconda3\\lib\\site-packages (from spacy) (1.0.10)\n",
      "Requirement already satisfied: thinc<8.3.0,>=8.2.2 in c:\\users\\lenovo\\anaconda3\\lib\\site-packages (from spacy) (8.2.5)\n",
      "Requirement already satisfied: numpy>=1.19.0 in c:\\users\\lenovo\\anaconda3\\lib\\site-packages (from spacy) (1.21.5)\n",
      "Requirement already satisfied: spacy-legacy<3.1.0,>=3.0.11 in c:\\users\\lenovo\\anaconda3\\lib\\site-packages (from spacy) (3.0.12)\n",
      "Requirement already satisfied: preshed<3.1.0,>=3.0.2 in c:\\users\\lenovo\\anaconda3\\lib\\site-packages (from spacy) (3.0.9)\n",
      "Requirement already satisfied: setuptools in c:\\users\\lenovo\\anaconda3\\lib\\site-packages (from spacy) (63.4.1)\n",
      "Requirement already satisfied: cymem<2.1.0,>=2.0.2 in c:\\users\\lenovo\\anaconda3\\lib\\site-packages (from spacy) (2.0.8)\n",
      "Requirement already satisfied: wasabi<1.2.0,>=0.9.1 in c:\\users\\lenovo\\anaconda3\\lib\\site-packages (from spacy) (1.1.3)\n",
      "Requirement already satisfied: packaging>=20.0 in c:\\users\\lenovo\\anaconda3\\lib\\site-packages (from spacy) (21.3)\n",
      "Requirement already satisfied: tqdm<5.0.0,>=4.38.0 in c:\\users\\lenovo\\anaconda3\\lib\\site-packages (from spacy) (4.64.1)\n",
      "Requirement already satisfied: srsly<3.0.0,>=2.4.3 in c:\\users\\lenovo\\anaconda3\\lib\\site-packages (from spacy) (2.4.8)\n",
      "Requirement already satisfied: langcodes<4.0.0,>=3.2.0 in c:\\users\\lenovo\\anaconda3\\lib\\site-packages (from spacy) (3.4.0)\n",
      "Requirement already satisfied: spacy-loggers<2.0.0,>=1.0.0 in c:\\users\\lenovo\\anaconda3\\lib\\site-packages (from spacy) (1.0.5)\n",
      "Requirement already satisfied: requests<3.0.0,>=2.13.0 in c:\\users\\lenovo\\anaconda3\\lib\\site-packages (from spacy) (2.28.1)\n",
      "Requirement already satisfied: typer<1.0.0,>=0.3.0 in c:\\users\\lenovo\\anaconda3\\lib\\site-packages (from spacy) (0.12.3)\n",
      "Requirement already satisfied: pydantic!=1.8,!=1.8.1,<3.0.0,>=1.7.4 in c:\\users\\lenovo\\anaconda3\\lib\\site-packages (from spacy) (2.8.2)\n",
      "Requirement already satisfied: weasel<0.5.0,>=0.1.0 in c:\\users\\lenovo\\anaconda3\\lib\\site-packages (from spacy) (0.4.1)\n",
      "Requirement already satisfied: language-data>=1.2 in c:\\users\\lenovo\\anaconda3\\lib\\site-packages (from langcodes<4.0.0,>=3.2.0->spacy) (1.2.0)\n",
      "Requirement already satisfied: pyparsing!=3.0.5,>=2.0.2 in c:\\users\\lenovo\\anaconda3\\lib\\site-packages (from packaging>=20.0->spacy) (3.0.9)\n",
      "Requirement already satisfied: pydantic-core==2.20.1 in c:\\users\\lenovo\\anaconda3\\lib\\site-packages (from pydantic!=1.8,!=1.8.1,<3.0.0,>=1.7.4->spacy) (2.20.1)\n",
      "Requirement already satisfied: typing-extensions>=4.6.1 in c:\\users\\lenovo\\anaconda3\\lib\\site-packages (from pydantic!=1.8,!=1.8.1,<3.0.0,>=1.7.4->spacy) (4.12.2)\n",
      "Requirement already satisfied: annotated-types>=0.4.0 in c:\\users\\lenovo\\anaconda3\\lib\\site-packages (from pydantic!=1.8,!=1.8.1,<3.0.0,>=1.7.4->spacy) (0.7.0)\n",
      "Requirement already satisfied: urllib3<1.27,>=1.21.1 in c:\\users\\lenovo\\anaconda3\\lib\\site-packages (from requests<3.0.0,>=2.13.0->spacy) (1.26.11)\n",
      "Requirement already satisfied: certifi>=2017.4.17 in c:\\users\\lenovo\\anaconda3\\lib\\site-packages (from requests<3.0.0,>=2.13.0->spacy) (2022.9.14)\n",
      "Requirement already satisfied: idna<4,>=2.5 in c:\\users\\lenovo\\anaconda3\\lib\\site-packages (from requests<3.0.0,>=2.13.0->spacy) (3.3)\n",
      "Requirement already satisfied: charset-normalizer<3,>=2 in c:\\users\\lenovo\\anaconda3\\lib\\site-packages (from requests<3.0.0,>=2.13.0->spacy) (2.0.4)\n",
      "Requirement already satisfied: confection<1.0.0,>=0.0.1 in c:\\users\\lenovo\\anaconda3\\lib\\site-packages (from thinc<8.3.0,>=8.2.2->spacy) (0.1.5)\n",
      "Requirement already satisfied: blis<0.8.0,>=0.7.8 in c:\\users\\lenovo\\anaconda3\\lib\\site-packages (from thinc<8.3.0,>=8.2.2->spacy) (0.7.11)\n",
      "Requirement already satisfied: colorama in c:\\users\\lenovo\\anaconda3\\lib\\site-packages (from tqdm<5.0.0,>=4.38.0->spacy) (0.4.6)\n",
      "Requirement already satisfied: click>=8.0.0 in c:\\users\\lenovo\\anaconda3\\lib\\site-packages (from typer<1.0.0,>=0.3.0->spacy) (8.0.4)\n",
      "Requirement already satisfied: rich>=10.11.0 in c:\\users\\lenovo\\anaconda3\\lib\\site-packages (from typer<1.0.0,>=0.3.0->spacy) (13.7.1)\n",
      "Requirement already satisfied: shellingham>=1.3.0 in c:\\users\\lenovo\\anaconda3\\lib\\site-packages (from typer<1.0.0,>=0.3.0->spacy) (1.5.4)\n",
      "Requirement already satisfied: smart-open<8.0.0,>=5.2.1 in c:\\users\\lenovo\\anaconda3\\lib\\site-packages (from weasel<0.5.0,>=0.1.0->spacy) (5.2.1)\n",
      "Requirement already satisfied: cloudpathlib<1.0.0,>=0.7.0 in c:\\users\\lenovo\\anaconda3\\lib\\site-packages (from weasel<0.5.0,>=0.1.0->spacy) (0.18.1)\n",
      "Requirement already satisfied: MarkupSafe>=0.23 in c:\\users\\lenovo\\anaconda3\\lib\\site-packages (from jinja2->spacy) (2.0.1)\n",
      "Requirement already satisfied: marisa-trie>=0.7.7 in c:\\users\\lenovo\\anaconda3\\lib\\site-packages (from language-data>=1.2->langcodes<4.0.0,>=3.2.0->spacy) (1.2.0)\n",
      "Requirement already satisfied: markdown-it-py>=2.2.0 in c:\\users\\lenovo\\anaconda3\\lib\\site-packages (from rich>=10.11.0->typer<1.0.0,>=0.3.0->spacy) (3.0.0)\n",
      "Requirement already satisfied: pygments<3.0.0,>=2.13.0 in c:\\users\\lenovo\\anaconda3\\lib\\site-packages (from rich>=10.11.0->typer<1.0.0,>=0.3.0->spacy) (2.18.0)\n",
      "Requirement already satisfied: mdurl~=0.1 in c:\\users\\lenovo\\anaconda3\\lib\\site-packages (from markdown-it-py>=2.2.0->rich>=10.11.0->typer<1.0.0,>=0.3.0->spacy) (0.1.2)\n"
     ]
    }
   ],
   "source": [
    "! pip install spacy"
   ]
  },
  {
   "cell_type": "code",
   "execution_count": 703,
   "id": "beabc936",
   "metadata": {},
   "outputs": [
    {
     "name": "stdout",
     "output_type": "stream",
     "text": [
      "<class 'pandas.core.frame.DataFrame'>\n",
      "RangeIndex: 5000 entries, 0 to 4999\n",
      "Data columns (total 8 columns):\n",
      " #   Column       Non-Null Count  Dtype  \n",
      "---  ------       --------------  -----  \n",
      " 0   id           5000 non-null   float64\n",
      " 1   pid          5000 non-null   float64\n",
      " 2   tags         5000 non-null   object \n",
      " 3   description  5000 non-null   object \n",
      " 4   name         5000 non-null   object \n",
      " 5   category     5000 non-null   object \n",
      " 6   brand        5000 non-null   object \n",
      " 7   image_url    5000 non-null   object \n",
      "dtypes: float64(2), object(6)\n",
      "memory usage: 312.6+ KB\n"
     ]
    }
   ],
   "source": [
    "product.info()"
   ]
  },
  {
   "cell_type": "code",
   "execution_count": 605,
   "id": "61f656a6",
   "metadata": {},
   "outputs": [
    {
     "data": {
      "text/plain": [
       "'This Clairol Nice N Easy Permanent Color gives you up to 8 weeks of true-to-you color with three salon tones for a blend of highlights and lowlights. Its expertly designed to work with your unique hair, to give you the stylish look you want. The neutral blonde color offers salon-quality permanent hair color without the cost. You can easily keep your color looking vibrant with Clairol CC+ ColorSeal Conditioner, which locks in softness and shine, sold separately. To cover grays between colorings, try Nice n Easy Root Touch-Up to blend seamlessly with your color. This natural dark hair color is easy to apply so you can have fresh looking color right from the comfort of your own home. The 7/106A comes as 1 kit, providing you with just what you need to color your hair as desired. Its available in many shades. This Clairol Nice N Easy Permanent Color will make a lovely addition to your haircare routine. Clairol Nice N Easy Permanent Color 7/106A Natural Dark Neutral Blonde, 1.0 Kit: Provides up to 8 weeks of color Made with 3 salon tones to offer a blend of highlights and lowlights Salon quality permanent color Neutral blonde color is easy to use Available in 10/87 Ultra Light Natural Blo, 118 Natural Medium, 2 Natural Black, 2.5/123 Soft Black, 2BB/124 Natural Blue Black, 3.5/121A Natural Darkest Brown, 4/120 Natural Dark Brown, 4GB/113 Natural Dark Burgundy4R/112 Natural Dark Auburn, 4W/1120B Dark Caramel Brown and more'"
      ]
     },
     "execution_count": 605,
     "metadata": {},
     "output_type": "execute_result"
    }
   ],
   "source": [
    "product.iloc[2].description"
   ]
  },
  {
   "cell_type": "code",
   "execution_count": 704,
   "id": "04908e22",
   "metadata": {},
   "outputs": [
    {
     "data": {
      "text/plain": [
       "\"Clairol Nice 'N Easy Permanent Color 7/106A Natural Dark Neutral Blonde, 1.0 KIT, Wal-mart, Walmart.com\""
      ]
     },
     "execution_count": 704,
     "metadata": {},
     "output_type": "execute_result"
    }
   ],
   "source": [
    "product.iloc[2].tags"
   ]
  },
  {
   "cell_type": "code",
   "execution_count": 705,
   "id": "541d8f76",
   "metadata": {},
   "outputs": [
    {
     "data": {
      "text/plain": [
       "'Clairol'"
      ]
     },
     "execution_count": 705,
     "metadata": {},
     "output_type": "execute_result"
    }
   ],
   "source": [
    "product.iloc[2].brand"
   ]
  },
  {
   "cell_type": "code",
   "execution_count": 706,
   "id": "45041365",
   "metadata": {},
   "outputs": [
    {
     "data": {
      "text/plain": [
       "'Seasonal > Stock Up Essentials > Personal Care Stock Up > Stock up on Shave'"
      ]
     },
     "execution_count": 706,
     "metadata": {},
     "output_type": "execute_result"
    }
   ],
   "source": [
    "product.iloc[4].category"
   ]
  },
  {
   "cell_type": "code",
   "execution_count": 707,
   "id": "230cb145",
   "metadata": {},
   "outputs": [],
   "source": [
    "def convert_category(object):\n",
    "    object=object.split('>')\n",
    "    result=[]\n",
    "    for obj in object:\n",
    "        result.append(obj.replace(' ',''))\n",
    "    return result"
   ]
  },
  {
   "cell_type": "code",
   "execution_count": 708,
   "id": "94b7f554",
   "metadata": {},
   "outputs": [
    {
     "name": "stderr",
     "output_type": "stream",
     "text": [
      "C:\\Users\\Lenovo\\AppData\\Local\\Temp\\ipykernel_24960\\3365655443.py:1: SettingWithCopyWarning: \n",
      "A value is trying to be set on a copy of a slice from a DataFrame.\n",
      "Try using .loc[row_indexer,col_indexer] = value instead\n",
      "\n",
      "See the caveats in the documentation: https://pandas.pydata.org/pandas-docs/stable/user_guide/indexing.html#returning-a-view-versus-a-copy\n",
      "  product.category=product['category'].apply(convert_category)\n"
     ]
    }
   ],
   "source": [
    "product.category=product['category'].apply(convert_category)"
   ]
  },
  {
   "cell_type": "code",
   "execution_count": 709,
   "id": "51cb34a9",
   "metadata": {},
   "outputs": [
    {
     "data": {
      "text/plain": [
       "0       [PremiumBeauty, PremiumMakeup, PremiumNailPoli...\n",
       "1          [Beauty, HairCare, HairColor, AuburnHairColor]\n",
       "2       [Beauty, HairCare, HairColor, PermanentHairColor]\n",
       "3                                   [Beauty, Makeup, Lip]\n",
       "4       [Seasonal, StockUpEssentials, PersonalCareStoc...\n",
       "                              ...                        \n",
       "4995    [HouseholdEssentials, AirFresheners, SprayAirF...\n",
       "4996    [Beauty, HairCare, HairColor, PermanentHairColor]\n",
       "4997                              [Beauty, Makeup, Nails]\n",
       "4998    [PremiumBeauty, PremiumBath&Body, PremiumBodyW...\n",
       "4999    [Beauty, Makeup, FaceMakeup, FaceMakeupBrands,...\n",
       "Name: category, Length: 5000, dtype: object"
      ]
     },
     "execution_count": 709,
     "metadata": {},
     "output_type": "execute_result"
    }
   ],
   "source": [
    "product.category"
   ]
  },
  {
   "cell_type": "code",
   "execution_count": 710,
   "id": "e1883f13",
   "metadata": {},
   "outputs": [],
   "source": [
    "def convert_description(object):\n",
    "    return object.split(' ')"
   ]
  },
  {
   "cell_type": "code",
   "execution_count": 711,
   "id": "cdeba5b7",
   "metadata": {},
   "outputs": [
    {
     "name": "stderr",
     "output_type": "stream",
     "text": [
      "C:\\Users\\Lenovo\\AppData\\Local\\Temp\\ipykernel_24960\\2283023935.py:1: SettingWithCopyWarning: \n",
      "A value is trying to be set on a copy of a slice from a DataFrame.\n",
      "Try using .loc[row_indexer,col_indexer] = value instead\n",
      "\n",
      "See the caveats in the documentation: https://pandas.pydata.org/pandas-docs/stable/user_guide/indexing.html#returning-a-view-versus-a-copy\n",
      "  product['description']=product['description'].apply(convert_description)\n"
     ]
    }
   ],
   "source": [
    "product['description']=product['description'].apply(convert_description)"
   ]
  },
  {
   "cell_type": "code",
   "execution_count": 712,
   "id": "46b21453",
   "metadata": {},
   "outputs": [
    {
     "data": {
      "text/plain": [
       "0                                                      []\n",
       "1       [Pack, of, 3, Pack, of, 3, for, the, UPC:, 381...\n",
       "2       [This, Clairol, Nice, N, Easy, Permanent, Colo...\n",
       "3       [Calling, all, matte, lip, lovers!, Indulge, i...\n",
       "4       [In, 1971,, Gillette, introduced, the, Trac, I...\n",
       "                              ...                        \n",
       "4995    [Garden, Mint, is, a, lovely, blend, of, spear...\n",
       "4996    [Garnier, Nutrisse, Nourishing, Hair, Color, C...\n",
       "4997    [Multifunctional, :, Our, nail, drill, kit, co...\n",
       "4998                                                   []\n",
       "4999    [Mousse, foundation, that, gives, you, a, smoo...\n",
       "Name: description, Length: 5000, dtype: object"
      ]
     },
     "execution_count": 712,
     "metadata": {},
     "output_type": "execute_result"
    }
   ],
   "source": [
    "product['description']"
   ]
  },
  {
   "cell_type": "code",
   "execution_count": 717,
   "id": "9bd5e698",
   "metadata": {},
   "outputs": [],
   "source": [
    "def convert_tags(object):\n",
    "    object=object.split(',')\n",
    "    result=[]\n",
    "    for obj in object:\n",
    "        result.append(obj.replace(' ',''))\n",
    "    return result"
   ]
  },
  {
   "cell_type": "code",
   "execution_count": 718,
   "id": "ca7a0ec7",
   "metadata": {
    "scrolled": true
   },
   "outputs": [
    {
     "ename": "AttributeError",
     "evalue": "'list' object has no attribute 'split'",
     "output_type": "error",
     "traceback": [
      "\u001b[1;31m---------------------------------------------------------------------------\u001b[0m",
      "\u001b[1;31mAttributeError\u001b[0m                            Traceback (most recent call last)",
      "\u001b[1;32m~\\AppData\\Local\\Temp\\ipykernel_24960\\723035574.py\u001b[0m in \u001b[0;36m<module>\u001b[1;34m\u001b[0m\n\u001b[1;32m----> 1\u001b[1;33m \u001b[0mproduct\u001b[0m\u001b[1;33m[\u001b[0m\u001b[1;34m'tags'\u001b[0m\u001b[1;33m]\u001b[0m\u001b[1;33m=\u001b[0m\u001b[0mproduct\u001b[0m\u001b[1;33m[\u001b[0m\u001b[1;34m'tags'\u001b[0m\u001b[1;33m]\u001b[0m\u001b[1;33m.\u001b[0m\u001b[0mapply\u001b[0m\u001b[1;33m(\u001b[0m\u001b[0mconvert_tags\u001b[0m\u001b[1;33m)\u001b[0m\u001b[1;33m\u001b[0m\u001b[1;33m\u001b[0m\u001b[0m\n\u001b[0m",
      "\u001b[1;32m~\\anaconda3\\lib\\site-packages\\pandas\\core\\series.py\u001b[0m in \u001b[0;36mapply\u001b[1;34m(self, func, convert_dtype, args, **kwargs)\u001b[0m\n\u001b[0;32m   4431\u001b[0m         \u001b[0mdtype\u001b[0m\u001b[1;33m:\u001b[0m \u001b[0mfloat64\u001b[0m\u001b[1;33m\u001b[0m\u001b[1;33m\u001b[0m\u001b[0m\n\u001b[0;32m   4432\u001b[0m         \"\"\"\n\u001b[1;32m-> 4433\u001b[1;33m         \u001b[1;32mreturn\u001b[0m \u001b[0mSeriesApply\u001b[0m\u001b[1;33m(\u001b[0m\u001b[0mself\u001b[0m\u001b[1;33m,\u001b[0m \u001b[0mfunc\u001b[0m\u001b[1;33m,\u001b[0m \u001b[0mconvert_dtype\u001b[0m\u001b[1;33m,\u001b[0m \u001b[0margs\u001b[0m\u001b[1;33m,\u001b[0m \u001b[0mkwargs\u001b[0m\u001b[1;33m)\u001b[0m\u001b[1;33m.\u001b[0m\u001b[0mapply\u001b[0m\u001b[1;33m(\u001b[0m\u001b[1;33m)\u001b[0m\u001b[1;33m\u001b[0m\u001b[1;33m\u001b[0m\u001b[0m\n\u001b[0m\u001b[0;32m   4434\u001b[0m \u001b[1;33m\u001b[0m\u001b[0m\n\u001b[0;32m   4435\u001b[0m     def _reduce(\n",
      "\u001b[1;32m~\\anaconda3\\lib\\site-packages\\pandas\\core\\apply.py\u001b[0m in \u001b[0;36mapply\u001b[1;34m(self)\u001b[0m\n\u001b[0;32m   1086\u001b[0m             \u001b[1;32mreturn\u001b[0m \u001b[0mself\u001b[0m\u001b[1;33m.\u001b[0m\u001b[0mapply_str\u001b[0m\u001b[1;33m(\u001b[0m\u001b[1;33m)\u001b[0m\u001b[1;33m\u001b[0m\u001b[1;33m\u001b[0m\u001b[0m\n\u001b[0;32m   1087\u001b[0m \u001b[1;33m\u001b[0m\u001b[0m\n\u001b[1;32m-> 1088\u001b[1;33m         \u001b[1;32mreturn\u001b[0m \u001b[0mself\u001b[0m\u001b[1;33m.\u001b[0m\u001b[0mapply_standard\u001b[0m\u001b[1;33m(\u001b[0m\u001b[1;33m)\u001b[0m\u001b[1;33m\u001b[0m\u001b[1;33m\u001b[0m\u001b[0m\n\u001b[0m\u001b[0;32m   1089\u001b[0m \u001b[1;33m\u001b[0m\u001b[0m\n\u001b[0;32m   1090\u001b[0m     \u001b[1;32mdef\u001b[0m \u001b[0magg\u001b[0m\u001b[1;33m(\u001b[0m\u001b[0mself\u001b[0m\u001b[1;33m)\u001b[0m\u001b[1;33m:\u001b[0m\u001b[1;33m\u001b[0m\u001b[1;33m\u001b[0m\u001b[0m\n",
      "\u001b[1;32m~\\anaconda3\\lib\\site-packages\\pandas\\core\\apply.py\u001b[0m in \u001b[0;36mapply_standard\u001b[1;34m(self)\u001b[0m\n\u001b[0;32m   1141\u001b[0m                 \u001b[1;31m# List[Union[Callable[..., Any], str]]]]]\"; expected\u001b[0m\u001b[1;33m\u001b[0m\u001b[1;33m\u001b[0m\u001b[0m\n\u001b[0;32m   1142\u001b[0m                 \u001b[1;31m# \"Callable[[Any], Any]\"\u001b[0m\u001b[1;33m\u001b[0m\u001b[1;33m\u001b[0m\u001b[0m\n\u001b[1;32m-> 1143\u001b[1;33m                 mapped = lib.map_infer(\n\u001b[0m\u001b[0;32m   1144\u001b[0m                     \u001b[0mvalues\u001b[0m\u001b[1;33m,\u001b[0m\u001b[1;33m\u001b[0m\u001b[1;33m\u001b[0m\u001b[0m\n\u001b[0;32m   1145\u001b[0m                     \u001b[0mf\u001b[0m\u001b[1;33m,\u001b[0m  \u001b[1;31m# type: ignore[arg-type]\u001b[0m\u001b[1;33m\u001b[0m\u001b[1;33m\u001b[0m\u001b[0m\n",
      "\u001b[1;32m~\\anaconda3\\lib\\site-packages\\pandas\\_libs\\lib.pyx\u001b[0m in \u001b[0;36mpandas._libs.lib.map_infer\u001b[1;34m()\u001b[0m\n",
      "\u001b[1;32m~\\AppData\\Local\\Temp\\ipykernel_24960\\193989590.py\u001b[0m in \u001b[0;36mconvert_tags\u001b[1;34m(object)\u001b[0m\n\u001b[0;32m      1\u001b[0m \u001b[1;32mdef\u001b[0m \u001b[0mconvert_tags\u001b[0m\u001b[1;33m(\u001b[0m\u001b[0mobject\u001b[0m\u001b[1;33m)\u001b[0m\u001b[1;33m:\u001b[0m\u001b[1;33m\u001b[0m\u001b[1;33m\u001b[0m\u001b[0m\n\u001b[1;32m----> 2\u001b[1;33m     \u001b[0mobject\u001b[0m\u001b[1;33m=\u001b[0m\u001b[0mobject\u001b[0m\u001b[1;33m.\u001b[0m\u001b[0msplit\u001b[0m\u001b[1;33m(\u001b[0m\u001b[1;34m','\u001b[0m\u001b[1;33m)\u001b[0m\u001b[1;33m\u001b[0m\u001b[1;33m\u001b[0m\u001b[0m\n\u001b[0m\u001b[0;32m      3\u001b[0m     \u001b[0mresult\u001b[0m\u001b[1;33m=\u001b[0m\u001b[1;33m[\u001b[0m\u001b[1;33m]\u001b[0m\u001b[1;33m\u001b[0m\u001b[1;33m\u001b[0m\u001b[0m\n\u001b[0;32m      4\u001b[0m     \u001b[1;32mfor\u001b[0m \u001b[0mobj\u001b[0m \u001b[1;32min\u001b[0m \u001b[0mobject\u001b[0m\u001b[1;33m:\u001b[0m\u001b[1;33m\u001b[0m\u001b[1;33m\u001b[0m\u001b[0m\n\u001b[0;32m      5\u001b[0m         \u001b[0mresult\u001b[0m\u001b[1;33m.\u001b[0m\u001b[0mappend\u001b[0m\u001b[1;33m(\u001b[0m\u001b[0mobj\u001b[0m\u001b[1;33m.\u001b[0m\u001b[0mreplace\u001b[0m\u001b[1;33m(\u001b[0m\u001b[1;34m' '\u001b[0m\u001b[1;33m,\u001b[0m\u001b[1;34m''\u001b[0m\u001b[1;33m)\u001b[0m\u001b[1;33m)\u001b[0m\u001b[1;33m\u001b[0m\u001b[1;33m\u001b[0m\u001b[0m\n",
      "\u001b[1;31mAttributeError\u001b[0m: 'list' object has no attribute 'split'"
     ]
    }
   ],
   "source": [
    "product['tags']=product['tags'].apply(convert_tags)"
   ]
  },
  {
   "cell_type": "code",
   "execution_count": 719,
   "id": "2b4ce6a0",
   "metadata": {},
   "outputs": [
    {
     "data": {
      "text/plain": [
       "0       [OPIInfiniteShine, NailLacquerNailPolish, Bubb...\n",
       "1       [Nice'nEasyPermanentColor, 111NaturalMediumAub...\n",
       "2       [ClairolNice'NEasyPermanentColor7/106ANaturalD...\n",
       "3       [KokieProfessionalMatteLipstick, HotBerry, 0.1...\n",
       "4       [GilletteTRACIIPlusRazorBladeRefills, FitTRACI...\n",
       "                              ...                        \n",
       "4995    [GardenMintRoomSpray(DoubleStrength), 4ounces,...\n",
       "4996    [GarnierNutrisseNourishingHairColorCreme(Brown...\n",
       "4997    [NailFileElectricDrill, 6in1ProfessionalNailAr...\n",
       "4998    [CreedLoveInBlackHairAndBodyWash6.8oz/200mlNew...\n",
       "4999                  [Foundation, Wal-mart, Walmart.com]\n",
       "Name: tags, Length: 5000, dtype: object"
      ]
     },
     "execution_count": 719,
     "metadata": {},
     "output_type": "execute_result"
    }
   ],
   "source": [
    "product['tags']"
   ]
  },
  {
   "cell_type": "code",
   "execution_count": 724,
   "id": "54416513",
   "metadata": {},
   "outputs": [
    {
     "ename": "AttributeError",
     "evalue": "'list' object has no attribute 'replace'",
     "output_type": "error",
     "traceback": [
      "\u001b[1;31m---------------------------------------------------------------------------\u001b[0m",
      "\u001b[1;31mAttributeError\u001b[0m                            Traceback (most recent call last)",
      "\u001b[1;32m~\\AppData\\Local\\Temp\\ipykernel_24960\\2269421451.py\u001b[0m in \u001b[0;36m<module>\u001b[1;34m\u001b[0m\n\u001b[0;32m      3\u001b[0m     \u001b[0mobject\u001b[0m\u001b[1;33m=\u001b[0m\u001b[0mobject\u001b[0m\u001b[1;33m.\u001b[0m\u001b[0msplit\u001b[0m\u001b[1;33m(\u001b[0m\u001b[1;34m','\u001b[0m\u001b[1;33m)\u001b[0m\u001b[1;33m\u001b[0m\u001b[1;33m\u001b[0m\u001b[0m\n\u001b[0;32m      4\u001b[0m     \u001b[1;32mreturn\u001b[0m \u001b[0mobject\u001b[0m\u001b[1;33m\u001b[0m\u001b[1;33m\u001b[0m\u001b[0m\n\u001b[1;32m----> 5\u001b[1;33m \u001b[0mproduct\u001b[0m\u001b[1;33m[\u001b[0m\u001b[1;34m'brand'\u001b[0m\u001b[1;33m]\u001b[0m\u001b[1;33m=\u001b[0m\u001b[0mproduct\u001b[0m\u001b[1;33m[\u001b[0m\u001b[1;34m'brand'\u001b[0m\u001b[1;33m]\u001b[0m\u001b[1;33m.\u001b[0m\u001b[0mapply\u001b[0m\u001b[1;33m(\u001b[0m\u001b[0mconvert_brand\u001b[0m\u001b[1;33m)\u001b[0m\u001b[1;33m\u001b[0m\u001b[1;33m\u001b[0m\u001b[0m\n\u001b[0m",
      "\u001b[1;32m~\\anaconda3\\lib\\site-packages\\pandas\\core\\series.py\u001b[0m in \u001b[0;36mapply\u001b[1;34m(self, func, convert_dtype, args, **kwargs)\u001b[0m\n\u001b[0;32m   4431\u001b[0m         \u001b[0mdtype\u001b[0m\u001b[1;33m:\u001b[0m \u001b[0mfloat64\u001b[0m\u001b[1;33m\u001b[0m\u001b[1;33m\u001b[0m\u001b[0m\n\u001b[0;32m   4432\u001b[0m         \"\"\"\n\u001b[1;32m-> 4433\u001b[1;33m         \u001b[1;32mreturn\u001b[0m \u001b[0mSeriesApply\u001b[0m\u001b[1;33m(\u001b[0m\u001b[0mself\u001b[0m\u001b[1;33m,\u001b[0m \u001b[0mfunc\u001b[0m\u001b[1;33m,\u001b[0m \u001b[0mconvert_dtype\u001b[0m\u001b[1;33m,\u001b[0m \u001b[0margs\u001b[0m\u001b[1;33m,\u001b[0m \u001b[0mkwargs\u001b[0m\u001b[1;33m)\u001b[0m\u001b[1;33m.\u001b[0m\u001b[0mapply\u001b[0m\u001b[1;33m(\u001b[0m\u001b[1;33m)\u001b[0m\u001b[1;33m\u001b[0m\u001b[1;33m\u001b[0m\u001b[0m\n\u001b[0m\u001b[0;32m   4434\u001b[0m \u001b[1;33m\u001b[0m\u001b[0m\n\u001b[0;32m   4435\u001b[0m     def _reduce(\n",
      "\u001b[1;32m~\\anaconda3\\lib\\site-packages\\pandas\\core\\apply.py\u001b[0m in \u001b[0;36mapply\u001b[1;34m(self)\u001b[0m\n\u001b[0;32m   1086\u001b[0m             \u001b[1;32mreturn\u001b[0m \u001b[0mself\u001b[0m\u001b[1;33m.\u001b[0m\u001b[0mapply_str\u001b[0m\u001b[1;33m(\u001b[0m\u001b[1;33m)\u001b[0m\u001b[1;33m\u001b[0m\u001b[1;33m\u001b[0m\u001b[0m\n\u001b[0;32m   1087\u001b[0m \u001b[1;33m\u001b[0m\u001b[0m\n\u001b[1;32m-> 1088\u001b[1;33m         \u001b[1;32mreturn\u001b[0m \u001b[0mself\u001b[0m\u001b[1;33m.\u001b[0m\u001b[0mapply_standard\u001b[0m\u001b[1;33m(\u001b[0m\u001b[1;33m)\u001b[0m\u001b[1;33m\u001b[0m\u001b[1;33m\u001b[0m\u001b[0m\n\u001b[0m\u001b[0;32m   1089\u001b[0m \u001b[1;33m\u001b[0m\u001b[0m\n\u001b[0;32m   1090\u001b[0m     \u001b[1;32mdef\u001b[0m \u001b[0magg\u001b[0m\u001b[1;33m(\u001b[0m\u001b[0mself\u001b[0m\u001b[1;33m)\u001b[0m\u001b[1;33m:\u001b[0m\u001b[1;33m\u001b[0m\u001b[1;33m\u001b[0m\u001b[0m\n",
      "\u001b[1;32m~\\anaconda3\\lib\\site-packages\\pandas\\core\\apply.py\u001b[0m in \u001b[0;36mapply_standard\u001b[1;34m(self)\u001b[0m\n\u001b[0;32m   1141\u001b[0m                 \u001b[1;31m# List[Union[Callable[..., Any], str]]]]]\"; expected\u001b[0m\u001b[1;33m\u001b[0m\u001b[1;33m\u001b[0m\u001b[0m\n\u001b[0;32m   1142\u001b[0m                 \u001b[1;31m# \"Callable[[Any], Any]\"\u001b[0m\u001b[1;33m\u001b[0m\u001b[1;33m\u001b[0m\u001b[0m\n\u001b[1;32m-> 1143\u001b[1;33m                 mapped = lib.map_infer(\n\u001b[0m\u001b[0;32m   1144\u001b[0m                     \u001b[0mvalues\u001b[0m\u001b[1;33m,\u001b[0m\u001b[1;33m\u001b[0m\u001b[1;33m\u001b[0m\u001b[0m\n\u001b[0;32m   1145\u001b[0m                     \u001b[0mf\u001b[0m\u001b[1;33m,\u001b[0m  \u001b[1;31m# type: ignore[arg-type]\u001b[0m\u001b[1;33m\u001b[0m\u001b[1;33m\u001b[0m\u001b[0m\n",
      "\u001b[1;32m~\\anaconda3\\lib\\site-packages\\pandas\\_libs\\lib.pyx\u001b[0m in \u001b[0;36mpandas._libs.lib.map_infer\u001b[1;34m()\u001b[0m\n",
      "\u001b[1;32m~\\AppData\\Local\\Temp\\ipykernel_24960\\2269421451.py\u001b[0m in \u001b[0;36mconvert_brand\u001b[1;34m(object)\u001b[0m\n\u001b[0;32m      1\u001b[0m \u001b[1;32mdef\u001b[0m \u001b[0mconvert_brand\u001b[0m\u001b[1;33m(\u001b[0m\u001b[0mobject\u001b[0m\u001b[1;33m)\u001b[0m\u001b[1;33m:\u001b[0m\u001b[1;33m\u001b[0m\u001b[1;33m\u001b[0m\u001b[0m\n\u001b[1;32m----> 2\u001b[1;33m     \u001b[0mobject\u001b[0m\u001b[1;33m=\u001b[0m\u001b[0mobject\u001b[0m\u001b[1;33m.\u001b[0m\u001b[0mreplace\u001b[0m\u001b[1;33m(\u001b[0m\u001b[1;34m' '\u001b[0m\u001b[1;33m,\u001b[0m\u001b[1;34m''\u001b[0m\u001b[1;33m)\u001b[0m\u001b[1;33m\u001b[0m\u001b[1;33m\u001b[0m\u001b[0m\n\u001b[0m\u001b[0;32m      3\u001b[0m     \u001b[0mobject\u001b[0m\u001b[1;33m=\u001b[0m\u001b[0mobject\u001b[0m\u001b[1;33m.\u001b[0m\u001b[0msplit\u001b[0m\u001b[1;33m(\u001b[0m\u001b[1;34m','\u001b[0m\u001b[1;33m)\u001b[0m\u001b[1;33m\u001b[0m\u001b[1;33m\u001b[0m\u001b[0m\n\u001b[0;32m      4\u001b[0m     \u001b[1;32mreturn\u001b[0m \u001b[0mobject\u001b[0m\u001b[1;33m\u001b[0m\u001b[1;33m\u001b[0m\u001b[0m\n\u001b[0;32m      5\u001b[0m \u001b[0mproduct\u001b[0m\u001b[1;33m[\u001b[0m\u001b[1;34m'brand'\u001b[0m\u001b[1;33m]\u001b[0m\u001b[1;33m=\u001b[0m\u001b[0mproduct\u001b[0m\u001b[1;33m[\u001b[0m\u001b[1;34m'brand'\u001b[0m\u001b[1;33m]\u001b[0m\u001b[1;33m.\u001b[0m\u001b[0mapply\u001b[0m\u001b[1;33m(\u001b[0m\u001b[0mconvert_brand\u001b[0m\u001b[1;33m)\u001b[0m\u001b[1;33m\u001b[0m\u001b[1;33m\u001b[0m\u001b[0m\n",
      "\u001b[1;31mAttributeError\u001b[0m: 'list' object has no attribute 'replace'"
     ]
    }
   ],
   "source": [
    "def convert_brand(object):\n",
    "    object=object.replace(' ','')\n",
    "    object=object.split(',')\n",
    "    return object\n",
    "product['brand']=product['brand'].apply(convert_brand)"
   ]
  },
  {
   "cell_type": "code",
   "execution_count": 725,
   "id": "c893358c",
   "metadata": {},
   "outputs": [
    {
     "name": "stderr",
     "output_type": "stream",
     "text": [
      "C:\\Users\\Lenovo\\AppData\\Local\\Temp\\ipykernel_24960\\1725311123.py:1: SettingWithCopyWarning: \n",
      "A value is trying to be set on a copy of a slice from a DataFrame.\n",
      "Try using .loc[row_indexer,col_indexer] = value instead\n",
      "\n",
      "See the caveats in the documentation: https://pandas.pydata.org/pandas-docs/stable/user_guide/indexing.html#returning-a-view-versus-a-copy\n",
      "  product['all_tags']=product['tags']+product['description']+product['category']+product['brand']\n"
     ]
    }
   ],
   "source": [
    "product['all_tags']=product['tags']+product['description']+product['category']+product['brand']"
   ]
  },
  {
   "cell_type": "code",
   "execution_count": 726,
   "id": "137a7f13",
   "metadata": {},
   "outputs": [
    {
     "data": {
      "text/html": [
       "<div>\n",
       "<style scoped>\n",
       "    .dataframe tbody tr th:only-of-type {\n",
       "        vertical-align: middle;\n",
       "    }\n",
       "\n",
       "    .dataframe tbody tr th {\n",
       "        vertical-align: top;\n",
       "    }\n",
       "\n",
       "    .dataframe thead th {\n",
       "        text-align: right;\n",
       "    }\n",
       "</style>\n",
       "<table border=\"1\" class=\"dataframe\">\n",
       "  <thead>\n",
       "    <tr style=\"text-align: right;\">\n",
       "      <th></th>\n",
       "      <th>id</th>\n",
       "      <th>pid</th>\n",
       "      <th>tags</th>\n",
       "      <th>description</th>\n",
       "      <th>name</th>\n",
       "      <th>category</th>\n",
       "      <th>brand</th>\n",
       "      <th>image_url</th>\n",
       "      <th>all_tags</th>\n",
       "    </tr>\n",
       "  </thead>\n",
       "  <tbody>\n",
       "    <tr>\n",
       "      <th>0</th>\n",
       "      <td>1.705737e+09</td>\n",
       "      <td>2.0</td>\n",
       "      <td>[OPIInfiniteShine, NailLacquerNailPolish, Bubb...</td>\n",
       "      <td>[]</td>\n",
       "      <td>OPI Infinite Shine, Nail Lacquer Nail Polish, ...</td>\n",
       "      <td>[PremiumBeauty, PremiumMakeup, PremiumNailPoli...</td>\n",
       "      <td>[OPI]</td>\n",
       "      <td>https://i5.walmartimages.com/asr/0e1f4c51-c1a4...</td>\n",
       "      <td>[OPIInfiniteShine, NailLacquerNailPolish, Bubb...</td>\n",
       "    </tr>\n",
       "    <tr>\n",
       "      <th>1</th>\n",
       "      <td>9.500000e+01</td>\n",
       "      <td>76.0</td>\n",
       "      <td>[Nice'nEasyPermanentColor, 111NaturalMediumAub...</td>\n",
       "      <td>[Pack, of, 3, Pack, of, 3, for, the, UPC:, 381...</td>\n",
       "      <td>Nice n Easy Permanent Color, 111 Natural Mediu...</td>\n",
       "      <td>[Beauty, HairCare, HairColor, AuburnHairColor]</td>\n",
       "      <td>[Nice'nEasy]</td>\n",
       "      <td>https://i5.walmartimages.com/asr/9c8e42e4-13a5...</td>\n",
       "      <td>[Nice'nEasyPermanentColor, 111NaturalMediumAub...</td>\n",
       "    </tr>\n",
       "    <tr>\n",
       "      <th>2</th>\n",
       "      <td>8.000000e+00</td>\n",
       "      <td>8.0</td>\n",
       "      <td>[ClairolNice'NEasyPermanentColor7/106ANaturalD...</td>\n",
       "      <td>[This, Clairol, Nice, N, Easy, Permanent, Colo...</td>\n",
       "      <td>Clairol Nice N Easy Permanent Color 7/106A Nat...</td>\n",
       "      <td>[Beauty, HairCare, HairColor, PermanentHairColor]</td>\n",
       "      <td>[Clairol]</td>\n",
       "      <td>https://i5.walmartimages.com/asr/e3a601c2-6a2b...</td>\n",
       "      <td>[ClairolNice'NEasyPermanentColor7/106ANaturalD...</td>\n",
       "    </tr>\n",
       "    <tr>\n",
       "      <th>3</th>\n",
       "      <td>4.000000e+00</td>\n",
       "      <td>3.0</td>\n",
       "      <td>[KokieProfessionalMatteLipstick, HotBerry, 0.1...</td>\n",
       "      <td>[Calling, all, matte, lip, lovers!, Indulge, i...</td>\n",
       "      <td>Kokie Professional Matte Lipstick, Hot Berry, ...</td>\n",
       "      <td>[Beauty, Makeup, Lip]</td>\n",
       "      <td>[KokieCosmetics]</td>\n",
       "      <td>https://i5.walmartimages.com/asr/25b4b467-bc61...</td>\n",
       "      <td>[KokieProfessionalMatteLipstick, HotBerry, 0.1...</td>\n",
       "    </tr>\n",
       "    <tr>\n",
       "      <th>4</th>\n",
       "      <td>9.900000e+02</td>\n",
       "      <td>3.0</td>\n",
       "      <td>[GilletteTRACIIPlusRazorBladeRefills, FitTRACI...</td>\n",
       "      <td>[In, 1971,, Gillette, introduced, the, Trac, I...</td>\n",
       "      <td>Gillette TRAC II Plus Razor Blade Refills, Fit...</td>\n",
       "      <td>[Seasonal, StockUpEssentials, PersonalCareStoc...</td>\n",
       "      <td>[Gillette]</td>\n",
       "      <td>https://i5.walmartimages.com/asr/1a2ebb06-cd01...</td>\n",
       "      <td>[GilletteTRACIIPlusRazorBladeRefills, FitTRACI...</td>\n",
       "    </tr>\n",
       "  </tbody>\n",
       "</table>\n",
       "</div>"
      ],
      "text/plain": [
       "             id   pid                                               tags  \\\n",
       "0  1.705737e+09   2.0  [OPIInfiniteShine, NailLacquerNailPolish, Bubb...   \n",
       "1  9.500000e+01  76.0  [Nice'nEasyPermanentColor, 111NaturalMediumAub...   \n",
       "2  8.000000e+00   8.0  [ClairolNice'NEasyPermanentColor7/106ANaturalD...   \n",
       "3  4.000000e+00   3.0  [KokieProfessionalMatteLipstick, HotBerry, 0.1...   \n",
       "4  9.900000e+02   3.0  [GilletteTRACIIPlusRazorBladeRefills, FitTRACI...   \n",
       "\n",
       "                                         description  \\\n",
       "0                                                 []   \n",
       "1  [Pack, of, 3, Pack, of, 3, for, the, UPC:, 381...   \n",
       "2  [This, Clairol, Nice, N, Easy, Permanent, Colo...   \n",
       "3  [Calling, all, matte, lip, lovers!, Indulge, i...   \n",
       "4  [In, 1971,, Gillette, introduced, the, Trac, I...   \n",
       "\n",
       "                                                name  \\\n",
       "0  OPI Infinite Shine, Nail Lacquer Nail Polish, ...   \n",
       "1  Nice n Easy Permanent Color, 111 Natural Mediu...   \n",
       "2  Clairol Nice N Easy Permanent Color 7/106A Nat...   \n",
       "3  Kokie Professional Matte Lipstick, Hot Berry, ...   \n",
       "4  Gillette TRAC II Plus Razor Blade Refills, Fit...   \n",
       "\n",
       "                                            category             brand  \\\n",
       "0  [PremiumBeauty, PremiumMakeup, PremiumNailPoli...             [OPI]   \n",
       "1     [Beauty, HairCare, HairColor, AuburnHairColor]      [Nice'nEasy]   \n",
       "2  [Beauty, HairCare, HairColor, PermanentHairColor]         [Clairol]   \n",
       "3                              [Beauty, Makeup, Lip]  [KokieCosmetics]   \n",
       "4  [Seasonal, StockUpEssentials, PersonalCareStoc...        [Gillette]   \n",
       "\n",
       "                                           image_url  \\\n",
       "0  https://i5.walmartimages.com/asr/0e1f4c51-c1a4...   \n",
       "1  https://i5.walmartimages.com/asr/9c8e42e4-13a5...   \n",
       "2  https://i5.walmartimages.com/asr/e3a601c2-6a2b...   \n",
       "3  https://i5.walmartimages.com/asr/25b4b467-bc61...   \n",
       "4  https://i5.walmartimages.com/asr/1a2ebb06-cd01...   \n",
       "\n",
       "                                            all_tags  \n",
       "0  [OPIInfiniteShine, NailLacquerNailPolish, Bubb...  \n",
       "1  [Nice'nEasyPermanentColor, 111NaturalMediumAub...  \n",
       "2  [ClairolNice'NEasyPermanentColor7/106ANaturalD...  \n",
       "3  [KokieProfessionalMatteLipstick, HotBerry, 0.1...  \n",
       "4  [GilletteTRACIIPlusRazorBladeRefills, FitTRACI...  "
      ]
     },
     "execution_count": 726,
     "metadata": {},
     "output_type": "execute_result"
    }
   ],
   "source": [
    "product.head(5)"
   ]
  },
  {
   "cell_type": "code",
   "execution_count": 728,
   "id": "ca18fdbb",
   "metadata": {},
   "outputs": [],
   "source": [
    "new_df=product[['id','pid','name','all_tags']]"
   ]
  },
  {
   "cell_type": "code",
   "execution_count": 729,
   "id": "a9ca9991",
   "metadata": {},
   "outputs": [
    {
     "name": "stderr",
     "output_type": "stream",
     "text": [
      "C:\\Users\\Lenovo\\AppData\\Local\\Temp\\ipykernel_24960\\2176382069.py:6: SettingWithCopyWarning: \n",
      "A value is trying to be set on a copy of a slice from a DataFrame.\n",
      "Try using .loc[row_indexer,col_indexer] = value instead\n",
      "\n",
      "See the caveats in the documentation: https://pandas.pydata.org/pandas-docs/stable/user_guide/indexing.html#returning-a-view-versus-a-copy\n",
      "  new_df['all_tags']=new_df['all_tags'].apply(convert_all_tags)\n"
     ]
    }
   ],
   "source": [
    "def convert_all_tags(object):\n",
    "    result=''\n",
    "    for obj in object:\n",
    "        result=result+obj+' '\n",
    "    return result\n",
    "new_df['all_tags']=new_df['all_tags'].apply(convert_all_tags)"
   ]
  },
  {
   "cell_type": "code",
   "execution_count": 731,
   "id": "037e864e",
   "metadata": {},
   "outputs": [
    {
     "data": {
      "text/plain": [
       "\"Nice'nEasyPermanentColor 111NaturalMediumAuburn1ea(Packof3) Wal-mart Walmart.com Pack of 3 Pack of 3 for the UPC: 381519000201 Beautiful, natural color. Active Ingredients: Color-Blend Formula: Water; Ethoxydiglycol; Propylene Glycol; Isopropyl Alcohol; Soytrimonium Chloride; Oleth-5; Oleic Acid; Ammonium Hydroxide; Trisodium Ethylenediamine Disuccinate; Fragrance; Oleth-2; C11-15 Pareth-9; Cocamidopropyl Betaine; C12-15 Pareth-3; Erythorbic Acid; Citric Acid; Sodium Sulfite; EDTA; p-Aminophenol; 4-Amino-2-Hydroxytoluene; p-Phenylenediamine; Resorcinol; 2-Methylresorcinol; N,N-Bis(2-Hydroxyethyl)-P-Phenylenediamine Sulfate; 1-Hydroxyethyl 4,5-Diamino Pyrazole Sulfate; Phenyl Methyl Pyrazolone; 1-Naphthol. Color-Blend Activator: Water; Hydrogen Peroxide; Acrylates Copolymer; Steareth-21; Oleth-2; Oleth-5; PEG-50 Hydrogenated Palmamide; Acrylates/Steareth-20 Methacrylate Copolymer; Oleyl Alcohol; Etidronic Acid; Disodium EDTA; Simethicone. Colorseal Conditioning Gloss: Water; Amodimethicone; Stearyl Alcohol; Cetyl Alcohol; Stearamidopropyl Dimethylamine; Glutamic Acid; Fragrance; Benzyl Alcohol; Panthenyl Ethyl Ether; EDTA; Panthenol; Trimethylsiloxysilicate Carthamus Tinctorius (Safflower) Seed Oil; Cocos Nucifera (Coconut) Oil; Hydrolyzed Sweet Almond Protein; Methylchloroisothiazolinone; Methylisothiazolinone; Aloe Barbadensis Leaf Uses: Salon experts know it takes a perfect blend of tones to create amazingly natural color results. Nice n Easy creates beautifully blended natural-looking shades for you, just like the experts, in one easy step! Q. How do I know if Nice n Easy is right for me? A. Nice n Easy gives you ultimate natural-looking color with highlights and shine in just one easy step. Browns are brilliant, blondes are illuminating, and reds are radiant. Q. How does it work? A. Only Nice n Easy has our exclusive Color-blend formula. In one step, each shade gives you an expert blend of 3 tones that work together to create natural-looking color with shining dimension. Q. Will it cover my grays? A. Yes! Nice n Easy promises 100% gray coverage even on resistant grays. Q. How long will it last? A. Nice n Easy lasts for up to 6 weeks. And for your radiant red shade, youll find 6 weekly treatments of our exclusive ColorSeal Conditioning Gloss to seal in healthy-looking color and add intense shine. Beauty HairCare HairColor AuburnHairColor Nice'nEasy \""
      ]
     },
     "execution_count": 731,
     "metadata": {},
     "output_type": "execute_result"
    }
   ],
   "source": [
    "new_df['all_tags'][1]"
   ]
  },
  {
   "cell_type": "code",
   "execution_count": 623,
   "id": "37306e34",
   "metadata": {},
   "outputs": [],
   "source": [
    "cv_1=CountVectorizer(max_features=5000,stop_words='english')"
   ]
  },
  {
   "cell_type": "code",
   "execution_count": 624,
   "id": "fc0e74bf",
   "metadata": {},
   "outputs": [],
   "source": [
    "vectors_1=cv_1.fit_transform(new_df['all_tags']).toarray()"
   ]
  },
  {
   "cell_type": "code",
   "execution_count": 360,
   "id": "6ee224e9",
   "metadata": {
    "scrolled": true
   },
   "outputs": [
    {
     "name": "stdout",
     "output_type": "stream",
     "text": [
      "Requirement already satisfied: nltk in c:\\users\\lenovo\\anaconda3\\lib\\site-packages (3.7)\n",
      "Requirement already satisfied: click in c:\\users\\lenovo\\anaconda3\\lib\\site-packages (from nltk) (8.0.4)\n",
      "Requirement already satisfied: regex>=2021.8.3 in c:\\users\\lenovo\\anaconda3\\lib\\site-packages (from nltk) (2022.7.9)\n",
      "Requirement already satisfied: joblib in c:\\users\\lenovo\\anaconda3\\lib\\site-packages (from nltk) (1.1.0)\n",
      "Requirement already satisfied: tqdm in c:\\users\\lenovo\\anaconda3\\lib\\site-packages (from nltk) (4.64.1)\n",
      "Requirement already satisfied: colorama in c:\\users\\lenovo\\anaconda3\\lib\\site-packages (from click->nltk) (0.4.6)\n"
     ]
    }
   ],
   "source": [
    "! pip install nltk"
   ]
  },
  {
   "cell_type": "code",
   "execution_count": 732,
   "id": "5e00007c",
   "metadata": {},
   "outputs": [],
   "source": [
    "from nltk.stem.porter import PorterStemmer\n",
    "ps=PorterStemmer()"
   ]
  },
  {
   "cell_type": "code",
   "execution_count": 733,
   "id": "631a96e7",
   "metadata": {},
   "outputs": [],
   "source": [
    "def stem(text):\n",
    "    y=[]\n",
    "    for i in text.split(' '):\n",
    "        y.append(ps.stem(i))\n",
    "    return \" \".join(y)"
   ]
  },
  {
   "cell_type": "code",
   "execution_count": 734,
   "id": "eab2c9d7",
   "metadata": {},
   "outputs": [
    {
     "name": "stderr",
     "output_type": "stream",
     "text": [
      "C:\\Users\\Lenovo\\AppData\\Local\\Temp\\ipykernel_24960\\19380399.py:1: SettingWithCopyWarning: \n",
      "A value is trying to be set on a copy of a slice from a DataFrame.\n",
      "Try using .loc[row_indexer,col_indexer] = value instead\n",
      "\n",
      "See the caveats in the documentation: https://pandas.pydata.org/pandas-docs/stable/user_guide/indexing.html#returning-a-view-versus-a-copy\n",
      "  new_df['all_tags']=new_df['all_tags'].apply(stem)\n"
     ]
    }
   ],
   "source": [
    "new_df['all_tags']=new_df['all_tags'].apply(stem)"
   ]
  },
  {
   "cell_type": "code",
   "execution_count": 735,
   "id": "a9113cc2",
   "metadata": {},
   "outputs": [
    {
     "name": "stderr",
     "output_type": "stream",
     "text": [
      "C:\\Users\\Lenovo\\anaconda3\\lib\\site-packages\\sklearn\\utils\\deprecation.py:87: FutureWarning: Function get_feature_names is deprecated; get_feature_names is deprecated in 1.0 and will be removed in 1.2. Please use get_feature_names_out instead.\n",
      "  warnings.warn(msg, category=FutureWarning)\n"
     ]
    },
    {
     "data": {
      "text/plain": [
       "['00',\n",
       " '000',\n",
       " '01oz',\n",
       " '02',\n",
       " '04',\n",
       " '05',\n",
       " '05oz',\n",
       " '06',\n",
       " '08',\n",
       " '0oz',\n",
       " '10',\n",
       " '100',\n",
       " '1000',\n",
       " '10017',\n",
       " '100g',\n",
       " '100ml',\n",
       " '10ml',\n",
       " '10oz',\n",
       " '10s',\n",
       " '10x',\n",
       " '11',\n",
       " '110',\n",
       " '118',\n",
       " '11oz',\n",
       " '12',\n",
       " '120',\n",
       " '1200',\n",
       " '125',\n",
       " '12floz',\n",
       " '12mm',\n",
       " '12oz',\n",
       " '13',\n",
       " '13oz',\n",
       " '14',\n",
       " '141',\n",
       " '14oz',\n",
       " '15',\n",
       " '150',\n",
       " '150ml',\n",
       " '15850',\n",
       " '15985',\n",
       " '15ml',\n",
       " '15oz',\n",
       " '16',\n",
       " '16floz',\n",
       " '16oz',\n",
       " '17',\n",
       " '170',\n",
       " '17200',\n",
       " '17oz',\n",
       " '18',\n",
       " '180',\n",
       " '18oz',\n",
       " '19',\n",
       " '1912',\n",
       " '19140',\n",
       " '1applic',\n",
       " '1cm',\n",
       " '1count',\n",
       " '1ea',\n",
       " '1each',\n",
       " '1floz',\n",
       " '1kit',\n",
       " '1lb',\n",
       " '1oz',\n",
       " '1pc',\n",
       " '1st',\n",
       " '1x',\n",
       " '20',\n",
       " '200',\n",
       " '2000',\n",
       " '200g',\n",
       " '2018',\n",
       " '2019',\n",
       " '20cm',\n",
       " '20mm',\n",
       " '20oz',\n",
       " '21',\n",
       " '21oz',\n",
       " '22',\n",
       " '23',\n",
       " '24',\n",
       " '240v',\n",
       " '25',\n",
       " '250',\n",
       " '25floz',\n",
       " '25oz',\n",
       " '26',\n",
       " '27',\n",
       " '28',\n",
       " '28oz',\n",
       " '29',\n",
       " '2ct',\n",
       " '2floz',\n",
       " '2oz',\n",
       " '2pack',\n",
       " '2x',\n",
       " '30',\n",
       " '300',\n",
       " '30ml',\n",
       " '31',\n",
       " '312',\n",
       " '32',\n",
       " '32oz',\n",
       " '33',\n",
       " '33oz',\n",
       " '34',\n",
       " '35',\n",
       " '35oz',\n",
       " '36',\n",
       " '360',\n",
       " '37',\n",
       " '38',\n",
       " '39',\n",
       " '3cm',\n",
       " '3count',\n",
       " '3d',\n",
       " '3mm',\n",
       " '3oz',\n",
       " '3pack',\n",
       " '3x',\n",
       " '40',\n",
       " '400',\n",
       " '40oz',\n",
       " '41',\n",
       " '42',\n",
       " '42090',\n",
       " '43',\n",
       " '44',\n",
       " '45',\n",
       " '450',\n",
       " '45410',\n",
       " '46',\n",
       " '46fl',\n",
       " '47',\n",
       " '48',\n",
       " '4cm',\n",
       " '4floz',\n",
       " '4mm',\n",
       " '4ounc',\n",
       " '4oz',\n",
       " '4pack',\n",
       " '4x',\n",
       " '50',\n",
       " '500',\n",
       " '500ml',\n",
       " '50ml',\n",
       " '50oz',\n",
       " '513',\n",
       " '52',\n",
       " '54',\n",
       " '55',\n",
       " '56',\n",
       " '58',\n",
       " '59',\n",
       " '5cm',\n",
       " '5fl',\n",
       " '5floz',\n",
       " '5inch',\n",
       " '5ml',\n",
       " '5mm',\n",
       " '5ounc',\n",
       " '5oz',\n",
       " '5x',\n",
       " '60',\n",
       " '600',\n",
       " '60ml',\n",
       " '60oz',\n",
       " '60s',\n",
       " '62',\n",
       " '63',\n",
       " '64',\n",
       " '64oz',\n",
       " '65',\n",
       " '66',\n",
       " '67',\n",
       " '68',\n",
       " '6floz',\n",
       " '6mm',\n",
       " '6oz',\n",
       " '6pack',\n",
       " '70',\n",
       " '7000',\n",
       " '72',\n",
       " '74',\n",
       " '74oz',\n",
       " '75',\n",
       " '7500',\n",
       " '75470',\n",
       " '75oz',\n",
       " '76',\n",
       " '77',\n",
       " '77007',\n",
       " '77163',\n",
       " '77288',\n",
       " '77491',\n",
       " '77492',\n",
       " '77499',\n",
       " '77510',\n",
       " '77891',\n",
       " '7floz',\n",
       " '7oz',\n",
       " '7x',\n",
       " '80',\n",
       " '800',\n",
       " '82',\n",
       " '84',\n",
       " '85',\n",
       " '86',\n",
       " '87',\n",
       " '88',\n",
       " '89',\n",
       " '8cm',\n",
       " '8fl',\n",
       " '8floz',\n",
       " '8ounc',\n",
       " '8oz',\n",
       " '90',\n",
       " '91',\n",
       " '92',\n",
       " '95',\n",
       " '96',\n",
       " '97',\n",
       " '98',\n",
       " '99',\n",
       " '9mm',\n",
       " '9oz',\n",
       " '9w',\n",
       " '_mtm',\n",
       " '_paq',\n",
       " 'aa',\n",
       " 'aaa',\n",
       " 'ab',\n",
       " 'abena',\n",
       " 'abil',\n",
       " 'abl',\n",
       " 'abov',\n",
       " 'abras',\n",
       " 'absolut',\n",
       " 'absorb',\n",
       " 'absorbed',\n",
       " 'absorbency',\n",
       " 'absorbent',\n",
       " 'absorbing',\n",
       " 'absorpt',\n",
       " 'absorption',\n",
       " 'abund',\n",
       " 'acai',\n",
       " 'acaicleans',\n",
       " 'acceler',\n",
       " 'accept',\n",
       " 'access',\n",
       " 'accessori',\n",
       " 'accident',\n",
       " 'accompani',\n",
       " 'accord',\n",
       " 'account',\n",
       " 'accumul',\n",
       " 'acet',\n",
       " 'acetate',\n",
       " 'ach',\n",
       " 'achiev',\n",
       " 'acid',\n",
       " 'acids',\n",
       " 'acn',\n",
       " 'acne',\n",
       " 'acquisit',\n",
       " 'acryl',\n",
       " 'acrylates',\n",
       " 'act',\n",
       " 'acti',\n",
       " 'action',\n",
       " 'actionpac',\n",
       " 'activ',\n",
       " 'activated',\n",
       " 'active',\n",
       " 'activities',\n",
       " 'activity',\n",
       " 'actual',\n",
       " 'acv',\n",
       " 'ad',\n",
       " 'ada',\n",
       " 'adapt',\n",
       " 'adaptogen',\n",
       " 'add',\n",
       " 'added',\n",
       " 'addit',\n",
       " 'addition',\n",
       " 'additionally',\n",
       " 'additives',\n",
       " 'adher',\n",
       " 'adhes',\n",
       " 'adjust',\n",
       " 'administration',\n",
       " 'adopt',\n",
       " 'ador',\n",
       " 'adult',\n",
       " 'advanc',\n",
       " 'advers',\n",
       " 'advice',\n",
       " 'advil',\n",
       " 'adx',\n",
       " 'aerosol',\n",
       " 'af',\n",
       " 'affect',\n",
       " 'afford',\n",
       " 'affordable',\n",
       " 'africa',\n",
       " 'african',\n",
       " 'afternoon',\n",
       " 'ag',\n",
       " 'age',\n",
       " 'ageless',\n",
       " 'agent',\n",
       " 'agents',\n",
       " 'ages',\n",
       " 'aging',\n",
       " 'ago',\n",
       " 'agre',\n",
       " 'ahead',\n",
       " 'aid',\n",
       " 'air',\n",
       " 'airborn',\n",
       " 'airbrush',\n",
       " 'airfreshen',\n",
       " 'airfreshenerrefil',\n",
       " 'airi',\n",
       " 'airpod',\n",
       " 'airwick',\n",
       " 'al',\n",
       " 'alba',\n",
       " 'albabotanica',\n",
       " 'alcohol',\n",
       " 'alert',\n",
       " 'alfalfa',\n",
       " 'alga',\n",
       " 'align',\n",
       " 'alkalin',\n",
       " 'alkyl',\n",
       " 'allairfreshenerrefil',\n",
       " 'allantoin',\n",
       " 'allbodycleans',\n",
       " 'allcarairfreshen',\n",
       " 'allcondition',\n",
       " 'allerg',\n",
       " 'allergen',\n",
       " 'allergenic',\n",
       " 'allergens',\n",
       " 'allergi',\n",
       " 'allergies',\n",
       " 'allergy',\n",
       " 'allevi',\n",
       " 'allfemininecar',\n",
       " 'allincontin',\n",
       " 'alloralaccessori',\n",
       " 'allow',\n",
       " 'allshampoo',\n",
       " 'allsuperfood',\n",
       " 'alltriggerspray',\n",
       " 'alltrimmers',\n",
       " 'almay',\n",
       " 'almond',\n",
       " 'alo',\n",
       " 'aloe',\n",
       " 'alon',\n",
       " 'alpha',\n",
       " 'alr',\n",
       " 'alreadi',\n",
       " 'altern',\n",
       " 'alumina',\n",
       " 'aluminum',\n",
       " 'alway',\n",
       " 'alwaysdiscreet',\n",
       " 'amaz',\n",
       " 'amazing',\n",
       " 'amazingli',\n",
       " 'amazon',\n",
       " 'amber',\n",
       " 'ambient',\n",
       " 'america',\n",
       " 'american',\n",
       " 'americanjobs2020',\n",
       " 'amino',\n",
       " 'aminomethyl',\n",
       " 'aminophenol',\n",
       " 'aminopropyl',\n",
       " 'amla',\n",
       " 'ammonia',\n",
       " 'ammonium',\n",
       " 'amodimethicone',\n",
       " 'amop',\n",
       " 'amp',\n",
       " 'amplifi',\n",
       " 'ampoul',\n",
       " 'amygdalu',\n",
       " 'amyl',\n",
       " 'ancient',\n",
       " 'angl',\n",
       " 'angustifolia',\n",
       " 'ani',\n",
       " 'anim',\n",
       " 'animals',\n",
       " 'ann',\n",
       " 'annuu',\n",
       " 'anoth',\n",
       " 'answer',\n",
       " 'anthemi',\n",
       " 'anti',\n",
       " 'antiagingcream',\n",
       " 'antibacteri',\n",
       " 'antibacterial',\n",
       " 'anticav',\n",
       " 'antifung',\n",
       " 'antimicrobi',\n",
       " 'antioxid',\n",
       " 'antioxidant',\n",
       " 'antioxidants',\n",
       " 'antiperspir',\n",
       " 'antiperspirant',\n",
       " 'antisept',\n",
       " 'anxiety',\n",
       " 'anyon',\n",
       " 'anyth',\n",
       " 'anytim',\n",
       " 'anytime',\n",
       " 'anywher',\n",
       " 'apart',\n",
       " 'apollo',\n",
       " 'apothecar',\n",
       " 'app',\n",
       " 'appear',\n",
       " 'appearance',\n",
       " 'appetit',\n",
       " 'appl',\n",
       " 'apple',\n",
       " 'appli',\n",
       " 'applianc',\n",
       " 'applic',\n",
       " 'application',\n",
       " 'applications',\n",
       " 'applicator',\n",
       " 'apply',\n",
       " 'appr',\n",
       " 'approach',\n",
       " 'appropri',\n",
       " 'approv',\n",
       " 'approx',\n",
       " 'approxim',\n",
       " 'apricot',\n",
       " 'aqua',\n",
       " 'aquaphor',\n",
       " 'arch',\n",
       " 'ardel',\n",
       " 'area',\n",
       " 'areas',\n",
       " 'arent',\n",
       " 'argan',\n",
       " 'argania',\n",
       " 'arm',\n",
       " 'armpit',\n",
       " 'arms',\n",
       " 'aroma',\n",
       " 'aromat',\n",
       " 'aromatherapi',\n",
       " 'aromatherapist',\n",
       " 'aromatherapy',\n",
       " 'array',\n",
       " 'arrow',\n",
       " 'art',\n",
       " 'arthriti',\n",
       " 'arthritis',\n",
       " 'artifici',\n",
       " 'artist',\n",
       " 'artizen',\n",
       " 'artnatur',\n",
       " 'ascorb',\n",
       " 'ascorbyl',\n",
       " 'ash',\n",
       " 'ask',\n",
       " 'asked',\n",
       " 'assist',\n",
       " 'associ',\n",
       " 'assort',\n",
       " 'assur',\n",
       " 'astaxanthin',\n",
       " 'astring',\n",
       " 'async',\n",
       " 'athlet',\n",
       " 'atmospher',\n",
       " 'atmosphere',\n",
       " 'attach',\n",
       " 'attend',\n",
       " 'attent',\n",
       " 'attention',\n",
       " 'attitud',\n",
       " 'attract',\n",
       " 'aubrey',\n",
       " 'auburn',\n",
       " 'australian',\n",
       " 'authent',\n",
       " 'author',\n",
       " 'auto',\n",
       " 'autodetailing',\n",
       " 'automat',\n",
       " 'avail',\n",
       " 'available',\n",
       " 'aveeno',\n",
       " 'avena',\n",
       " 'averag',\n",
       " 'avobenzon',\n",
       " 'avocado',\n",
       " 'avoid',\n",
       " 'awaken',\n",
       " 'award',\n",
       " 'away',\n",
       " 'awesom',\n",
       " 'axe',\n",
       " 'açaí',\n",
       " 'b3',\n",
       " 'b5',\n",
       " 'babi',\n",
       " 'baby',\n",
       " 'background',\n",
       " 'backing',\n",
       " 'backrest',\n",
       " 'backsheet',\n",
       " 'bacteri',\n",
       " 'bacteria',\n",
       " 'bad',\n",
       " 'badger',\n",
       " 'bag',\n",
       " 'bags',\n",
       " 'bake',\n",
       " 'balanc',\n",
       " 'balance',\n",
       " 'balanced',\n",
       " 'bald',\n",
       " 'ball',\n",
       " 'ballet',\n",
       " 'balm',\n",
       " 'balsam',\n",
       " 'bamboo',\n",
       " 'banana',\n",
       " 'bananaboat',\n",
       " 'band',\n",
       " 'bar',\n",
       " 'barbadensi',\n",
       " 'barbasol',\n",
       " 'barber',\n",
       " 'bare',\n",
       " 'bareminer',\n",
       " 'bargain',\n",
       " 'bargz',\n",
       " 'bariatr',\n",
       " 'bark',\n",
       " 'barrier',\n",
       " 'barsoap',\n",
       " 'bas',\n",
       " 'base',\n",
       " 'based',\n",
       " 'basi',\n",
       " 'basic',\n",
       " 'basicbed',\n",
       " 'basil',\n",
       " 'basket',\n",
       " 'batch',\n",
       " 'bath',\n",
       " 'bathing',\n",
       " 'bathroom',\n",
       " 'bathroomclean',\n",
       " 'bathrooms',\n",
       " 'bathsponges',\n",
       " 'batteri',\n",
       " 'batteries',\n",
       " 'battery',\n",
       " 'bay',\n",
       " 'bb',\n",
       " 'beach',\n",
       " 'bead',\n",
       " 'bean',\n",
       " 'bear',\n",
       " 'beard',\n",
       " 'beards',\n",
       " 'beardtrimm',\n",
       " 'beardtrimmers',\n",
       " 'beat',\n",
       " 'beauti',\n",
       " 'beautifi',\n",
       " 'beautiful',\n",
       " 'beauty',\n",
       " 'beautyact',\n",
       " 'beautybytop',\n",
       " 'beautybytopbrand',\n",
       " 'beautyholidaygift',\n",
       " 'becaus',\n",
       " 'becom',\n",
       " 'bed',\n",
       " 'bedroom',\n",
       " 'bedrooms',\n",
       " 'beds',\n",
       " 'bedsheet',\n",
       " 'bedtim',\n",
       " 'bedtime',\n",
       " 'bee',\n",
       " 'bees',\n",
       " 'beeswax',\n",
       " 'beet',\n",
       " 'befor',\n",
       " 'begin',\n",
       " 'behentrimonium',\n",
       " 'behenyl',\n",
       " 'beig',\n",
       " 'beige',\n",
       " 'belectrictoothbrush',\n",
       " 'believ',\n",
       " 'belov',\n",
       " 'belt',\n",
       " 'benefici',\n",
       " 'benefit',\n",
       " 'benefits',\n",
       " 'benzoate',\n",
       " 'benzyl',\n",
       " 'bergamot',\n",
       " 'berri',\n",
       " 'berries',\n",
       " 'berry',\n",
       " 'best',\n",
       " 'beta',\n",
       " 'betaine',\n",
       " 'better',\n",
       " 'beverag',\n",
       " 'bht',\n",
       " 'bi',\n",
       " 'bic',\n",
       " 'bicarbonate',\n",
       " 'bifidobacterium',\n",
       " 'big',\n",
       " 'bigen',\n",
       " 'bigger',\n",
       " 'bikini',\n",
       " 'billion',\n",
       " 'bind',\n",
       " 'bio',\n",
       " 'biodegrad',\n",
       " 'biodegradable',\n",
       " 'biotin',\n",
       " 'bird',\n",
       " 'birth',\n",
       " 'birthday',\n",
       " 'bis',\n",
       " 'bisabolol',\n",
       " 'bismuth',\n",
       " 'bit',\n",
       " 'bite',\n",
       " 'bitter',\n",
       " 'black',\n",
       " 'blackhead',\n",
       " 'blackop',\n",
       " 'bladder',\n",
       " 'blade',\n",
       " 'blades',\n",
       " 'bland',\n",
       " 'blanket',\n",
       " 'blast',\n",
       " 'bleach',\n",
       " 'bleaching',\n",
       " 'bleed',\n",
       " 'bleeding',\n",
       " 'blemish',\n",
       " 'blemishes',\n",
       " 'blend',\n",
       " 'blendabl',\n",
       " 'blends',\n",
       " 'blindness',\n",
       " 'bliss',\n",
       " 'blistex',\n",
       " 'bloating',\n",
       " 'block',\n",
       " 'blocker',\n",
       " 'blond',\n",
       " 'blonde',\n",
       " 'blood',\n",
       " 'blossom',\n",
       " 'blow',\n",
       " 'blue',\n",
       " 'bluetooth',\n",
       " 'blur',\n",
       " 'blush',\n",
       " 'boast',\n",
       " 'boat',\n",
       " 'bodi',\n",
       " 'body',\n",
       " 'bodycleans',\n",
       " 'bodyhairremov',\n",
       " 'bodylotions',\n",
       " 'bodyscrubs',\n",
       " 'bodywash',\n",
       " 'boilscent',\n",
       " 'bold',\n",
       " 'bolster',\n",
       " 'bomb',\n",
       " 'bond',\n",
       " 'bone',\n",
       " 'bonthe',\n",
       " 'book',\n",
       " 'boost',\n",
       " 'booster',\n",
       " 'borag',\n",
       " 'boric',\n",
       " 'born',\n",
       " 'borosilicate',\n",
       " 'botan',\n",
       " 'botanica',\n",
       " 'bottl',\n",
       " 'bottle',\n",
       " 'bottles',\n",
       " 'bounc',\n",
       " 'bounti',\n",
       " 'bouquet',\n",
       " 'bowel',\n",
       " 'bowl',\n",
       " 'box',\n",
       " 'bpa',\n",
       " 'brace',\n",
       " 'braces',\n",
       " 'bragg',\n",
       " 'braid',\n",
       " 'brain',\n",
       " 'bran',\n",
       " 'brand',\n",
       " 'brands',\n",
       " 'brandsmart',\n",
       " 'brass',\n",
       " 'brassy',\n",
       " 'braun',\n",
       " 'brazilian',\n",
       " 'break',\n",
       " 'breakag',\n",
       " 'breakage',\n",
       " 'breakout',\n",
       " 'breakouts',\n",
       " 'breakthrough',\n",
       " 'breast',\n",
       " 'breath',\n",
       " 'breathabl',\n",
       " 'breathable',\n",
       " 'breathe',\n",
       " 'breathing',\n",
       " 'breez',\n",
       " 'breeze',\n",
       " 'brick',\n",
       " 'brief',\n",
       " 'bright',\n",
       " 'brighten',\n",
       " 'brighter',\n",
       " 'brightness',\n",
       " 'brighton',\n",
       " 'brillianc',\n",
       " 'brilliant',\n",
       " 'bring',\n",
       " 'bristl',\n",
       " 'bristles',\n",
       " 'brit',\n",
       " 'brittl',\n",
       " 'broad',\n",
       " 'broken',\n",
       " 'bronner',\n",
       " 'bronz',\n",
       " 'bronzer',\n",
       " 'broom',\n",
       " 'brought',\n",
       " 'brow',\n",
       " 'brown',\n",
       " 'browns',\n",
       " 'brows',\n",
       " 'brunett',\n",
       " 'brunette',\n",
       " 'brush',\n",
       " 'brushing',\n",
       " 'bubbl',\n",
       " 'bucket',\n",
       " 'budget',\n",
       " 'buff',\n",
       " 'bug',\n",
       " 'build',\n",
       " 'buildabl',\n",
       " 'buildup',\n",
       " 'built',\n",
       " 'bulb',\n",
       " 'bulk',\n",
       " 'bulki',\n",
       " 'bump',\n",
       " 'bunion',\n",
       " 'bunni',\n",
       " 'burdock',\n",
       " 'buriti',\n",
       " 'burn',\n",
       " 'burner',\n",
       " 'burning',\n",
       " 'burns',\n",
       " 'burst',\n",
       " 'burt',\n",
       " 'busi',\n",
       " 'business',\n",
       " 'butter',\n",
       " 'butteri',\n",
       " 'button',\n",
       " 'butyl',\n",
       " 'butylcarbamate',\n",
       " 'butylen',\n",
       " 'butylparaben',\n",
       " 'butylphenyl',\n",
       " 'butyrospermum',\n",
       " 'buy',\n",
       " 'c10',\n",
       " 'c12',\n",
       " 'ca',\n",
       " 'cabl',\n",
       " 'cacao',\n",
       " 'caffein',\n",
       " 'caffeine',\n",
       " 'cake',\n",
       " 'cakey',\n",
       " 'calcium',\n",
       " 'calendula',\n",
       " 'calibr',\n",
       " 'california',\n",
       " 'calm',\n",
       " 'calmyourmind',\n",
       " 'calori',\n",
       " 'camellia',\n",
       " 'camera',\n",
       " 'camphor',\n",
       " 'camping',\n",
       " 'canada',\n",
       " 'cancer',\n",
       " 'candelilla',\n",
       " 'candi',\n",
       " 'candl',\n",
       " 'candle',\n",
       " 'candles',\n",
       " 'candy',\n",
       " 'cantu',\n",
       " 'canva',\n",
       " 'cap',\n",
       " 'capabl',\n",
       " 'capac',\n",
       " 'capacity',\n",
       " 'capr',\n",
       " 'caprylic',\n",
       " 'caprylyl',\n",
       " 'capsicum',\n",
       " 'capsul',\n",
       " 'capsule',\n",
       " 'capsules',\n",
       " 'captur',\n",
       " 'car',\n",
       " 'carabin',\n",
       " 'carairfreshen',\n",
       " 'caramel',\n",
       " 'carb',\n",
       " 'carbohydr',\n",
       " 'carbom',\n",
       " 'carbomer',\n",
       " 'carbon',\n",
       " 'carbonate',\n",
       " 'carboxamid',\n",
       " 'carcar',\n",
       " 'card',\n",
       " 'cardboard',\n",
       " 'care',\n",
       " 'carefre',\n",
       " 'caregiv',\n",
       " 'caress',\n",
       " 'carmex',\n",
       " 'carmin',\n",
       " 'carmine',\n",
       " 'carnauba',\n",
       " 'carpet',\n",
       " 'carpets',\n",
       " 'carri',\n",
       " 'carrier',\n",
       " 'carrot',\n",
       " 'carry',\n",
       " 'cars',\n",
       " 'cart',\n",
       " 'carton',\n",
       " 'cartridg',\n",
       " 'cas',\n",
       " 'casabella',\n",
       " 'cascad',\n",
       " 'cascara',\n",
       " 'case',\n",
       " 'cases',\n",
       " 'cast',\n",
       " 'castil',\n",
       " 'castor',\n",
       " 'casual',\n",
       " 'cat',\n",
       " 'catch',\n",
       " 'categori',\n",
       " 'cathet',\n",
       " 'caught',\n",
       " 'caus',\n",
       " 'caution',\n",
       " 'caviti',\n",
       " 'cavities',\n",
       " 'cayenn',\n",
       " 'cc',\n",
       " 'cdn',\n",
       " 'cedar',\n",
       " 'cedarwood',\n",
       " 'celebr',\n",
       " 'cell',\n",
       " 'cells',\n",
       " 'cellular',\n",
       " 'cellulit',\n",
       " 'cellulos',\n",
       " 'center',\n",
       " 'central',\n",
       " 'centuri',\n",
       " 'centuries',\n",
       " 'cera',\n",
       " 'ceram',\n",
       " 'ceramid',\n",
       " 'ceramide',\n",
       " 'cerav',\n",
       " 'cereal',\n",
       " 'cerifera',\n",
       " 'certain',\n",
       " 'certif',\n",
       " 'certifi',\n",
       " 'certified',\n",
       " 'cetaphil',\n",
       " 'ceteareth',\n",
       " 'cetearyl',\n",
       " 'ceteth',\n",
       " 'cetrimonium',\n",
       " 'cetyl',\n",
       " 'chafe',\n",
       " 'chaga',\n",
       " 'chain',\n",
       " 'chair',\n",
       " 'chairs',\n",
       " 'challeng',\n",
       " 'chamomil',\n",
       " 'chamomile',\n",
       " 'chamomilla',\n",
       " 'champagn',\n",
       " 'chang',\n",
       " 'change',\n",
       " 'changes',\n",
       " 'channel',\n",
       " 'chap',\n",
       " 'chapped',\n",
       " 'chapstick',\n",
       " 'charact',\n",
       " 'characterist',\n",
       " 'charcoal',\n",
       " 'charg',\n",
       " 'charger',\n",
       " 'charging',\n",
       " 'chart',\n",
       " 'chase',\n",
       " 'cheap',\n",
       " 'check',\n",
       " 'cheek',\n",
       " 'cheeks',\n",
       " 'cheer',\n",
       " 'chemic',\n",
       " 'chemical',\n",
       " 'chemicals',\n",
       " 'cherri',\n",
       " 'cherry',\n",
       " 'chest',\n",
       " 'chia',\n",
       " 'chic',\n",
       " 'child',\n",
       " 'children',\n",
       " 'chin',\n",
       " 'china',\n",
       " 'chinensi',\n",
       " 'chip',\n",
       " 'chlorella',\n",
       " 'chlorhexidin',\n",
       " 'chlorid',\n",
       " 'chloride',\n",
       " 'chlorin',\n",
       " 'chlorophyl',\n",
       " 'chocol',\n",
       " 'chocolate',\n",
       " 'choic',\n",
       " 'choice',\n",
       " 'cholesterol',\n",
       " 'choos',\n",
       " 'choose',\n",
       " 'chosen',\n",
       " 'chrome',\n",
       " 'chromium',\n",
       " 'chronic',\n",
       " ...]"
      ]
     },
     "execution_count": 735,
     "metadata": {},
     "output_type": "execute_result"
    }
   ],
   "source": [
    "cv.get_feature_names()"
   ]
  },
  {
   "cell_type": "code",
   "execution_count": 736,
   "id": "112ac459",
   "metadata": {},
   "outputs": [
    {
     "data": {
      "text/plain": [
       "63"
      ]
     },
     "execution_count": 736,
     "metadata": {},
     "output_type": "execute_result"
    }
   ],
   "source": [
    "vectors_1[10].sum()"
   ]
  },
  {
   "cell_type": "code",
   "execution_count": 737,
   "id": "0ac152b7",
   "metadata": {},
   "outputs": [],
   "source": [
    "similarity_1=cosine_similarity(vectors_1)"
   ]
  },
  {
   "cell_type": "code",
   "execution_count": 738,
   "id": "f73ee2dd",
   "metadata": {},
   "outputs": [
    {
     "data": {
      "text/plain": [
       "array([1.        , 0.04840756, 0.04671418, ..., 0.0557209 , 0.45643546,\n",
       "       0.18042196])"
      ]
     },
     "execution_count": 738,
     "metadata": {},
     "output_type": "execute_result"
    }
   ],
   "source": [
    "similarity_1[0]"
   ]
  },
  {
   "cell_type": "code",
   "execution_count": 739,
   "id": "3404fba1",
   "metadata": {},
   "outputs": [
    {
     "data": {
      "text/plain": [
       "0       OPI Infinite Shine, Nail Lacquer Nail Polish, ...\n",
       "1       Nice n Easy Permanent Color, 111 Natural Mediu...\n",
       "2       Clairol Nice N Easy Permanent Color 7/106A Nat...\n",
       "3       Kokie Professional Matte Lipstick, Hot Berry, ...\n",
       "4       Gillette TRAC II Plus Razor Blade Refills, Fit...\n",
       "                              ...                        \n",
       "4995    Garden Mint Room Spray (Double Strength), 4 ou...\n",
       "4996    Garnier Nutrisse Nourishing Hair Color Creme (...\n",
       "4997    Nail File Electric Drill, 6 in 1 Professional ...\n",
       "4998    Creed Love In Black Hair And Body Wash 6.8oz/2...\n",
       "4999                                           Foundation\n",
       "Name: name, Length: 5000, dtype: object"
      ]
     },
     "execution_count": 739,
     "metadata": {},
     "output_type": "execute_result"
    }
   ],
   "source": [
    "new_df['name']"
   ]
  },
  {
   "cell_type": "code",
   "execution_count": 753,
   "id": "ad061e88",
   "metadata": {},
   "outputs": [],
   "source": [
    "cv_2=TfidfVectorizer(stop_words='english')"
   ]
  },
  {
   "cell_type": "code",
   "execution_count": 741,
   "id": "85c3f97c",
   "metadata": {},
   "outputs": [
    {
     "data": {
      "text/plain": [
       "0       opiinfiniteshin naillacquernailpolish bubbleba...\n",
       "1       nice'neasypermanentcolor 111naturalmediumaubur...\n",
       "2       clairolnice'neasypermanentcolor7/106anaturalda...\n",
       "3       kokieprofessionalmattelipstick hotberri 0.14fl...\n",
       "4       gillettetraciiplusrazorbladerefil fittraciihan...\n",
       "                              ...                        \n",
       "4995    gardenmintroomspray(doublestrength) 4ounc wal-...\n",
       "4996    garniernutrissenourishinghaircolorcreme(browns...\n",
       "4997    nailfileelectricdril 6in1professionalnailartki...\n",
       "4998    creedloveinblackhairandbodywash6.8oz/200mlnewi...\n",
       "4999    foundat wal-mart walmart.com mouss foundat tha...\n",
       "Name: all_tags, Length: 5000, dtype: object"
      ]
     },
     "execution_count": 741,
     "metadata": {},
     "output_type": "execute_result"
    }
   ],
   "source": [
    "new_df['all_tags']"
   ]
  },
  {
   "cell_type": "code",
   "execution_count": 755,
   "id": "f03b64a3",
   "metadata": {},
   "outputs": [
    {
     "data": {
      "text/plain": [
       "array([0., 0., 0., ..., 0., 0., 0.])"
      ]
     },
     "execution_count": 755,
     "metadata": {},
     "output_type": "execute_result"
    }
   ],
   "source": [
    "vectors_2=cv_2.fit_transform(new_df['all_tags']).toarray()"
   ]
  },
  {
   "cell_type": "code",
   "execution_count": 758,
   "id": "2a126714",
   "metadata": {},
   "outputs": [
    {
     "data": {
      "text/plain": [
       "array([0.        , 0.05297026, 0.13892633, 0.20236227, 0.20585204,\n",
       "       0.25612509, 0.40106343, 0.46742261, 0.47194364])"
      ]
     },
     "execution_count": 758,
     "metadata": {},
     "output_type": "execute_result"
    }
   ],
   "source": [
    "np.unique(vectors_2[0])"
   ]
  },
  {
   "cell_type": "code",
   "execution_count": 762,
   "id": "1583378b",
   "metadata": {},
   "outputs": [
    {
     "data": {
      "text/plain": [
       "30404"
      ]
     },
     "execution_count": 762,
     "metadata": {},
     "output_type": "execute_result"
    }
   ],
   "source": [
    "len(cv_2.get_feature_names())"
   ]
  },
  {
   "cell_type": "code",
   "execution_count": 743,
   "id": "d07abf6c",
   "metadata": {},
   "outputs": [],
   "source": [
    "similarity_2=cosine_similarity(vectors_2,vectors_2)"
   ]
  },
  {
   "cell_type": "code",
   "execution_count": 744,
   "id": "fa36309f",
   "metadata": {},
   "outputs": [
    {
     "data": {
      "text/plain": [
       "array([[1.        , 0.00189156, 0.00211014, ..., 0.0012765 , 0.0311337 ,\n",
       "        0.0078692 ],\n",
       "       [0.00189156, 1.        , 0.29833827, ..., 0.02359227, 0.00192935,\n",
       "        0.03822522],\n",
       "       [0.00211014, 0.29833827, 1.        , ..., 0.04810863, 0.0021523 ,\n",
       "        0.06392472],\n",
       "       ...,\n",
       "       [0.0012765 , 0.02359227, 0.04810863, ..., 1.        , 0.001302  ,\n",
       "        0.02375007],\n",
       "       [0.0311337 , 0.00192935, 0.0021523 , ..., 0.001302  , 1.        ,\n",
       "        0.0080264 ],\n",
       "       [0.0078692 , 0.03822522, 0.06392472, ..., 0.02375007, 0.0080264 ,\n",
       "        1.        ]])"
      ]
     },
     "execution_count": 744,
     "metadata": {},
     "output_type": "execute_result"
    }
   ],
   "source": [
    "similarity_2"
   ]
  },
  {
   "cell_type": "code",
   "execution_count": 745,
   "id": "7c12fc0c",
   "metadata": {},
   "outputs": [
    {
     "data": {
      "text/plain": [
       "'OPI Infinite Shine, Nail Lacquer Nail Polish, Bubble Bath'"
      ]
     },
     "execution_count": 745,
     "metadata": {},
     "output_type": "execute_result"
    }
   ],
   "source": [
    "new_df['name'][0]"
   ]
  },
  {
   "cell_type": "code",
   "execution_count": 746,
   "id": "672b238e",
   "metadata": {},
   "outputs": [],
   "source": [
    "name='OPI Infinite Shine, Nail Lacquer Nail Polish, Bubble Bath'\n",
    "index=new_df[new_df['name']==name].index[0]"
   ]
  },
  {
   "cell_type": "code",
   "execution_count": 747,
   "id": "121fcdb6",
   "metadata": {},
   "outputs": [],
   "source": [
    "temp=list(enumerate(similarity_2[index]))"
   ]
  },
  {
   "cell_type": "code",
   "execution_count": 748,
   "id": "a6b61235",
   "metadata": {},
   "outputs": [],
   "source": [
    "temp2=sorted(temp,key=lambda x:x[1],reverse=True)"
   ]
  },
  {
   "cell_type": "code",
   "execution_count": 749,
   "id": "58a25b23",
   "metadata": {},
   "outputs": [
    {
     "data": {
      "text/plain": [
       "[(1743, 0.5246229470151377),\n",
       " (2511, 0.4926717883413431),\n",
       " (3692, 0.4926717883413431),\n",
       " (3987, 0.4926717883413431),\n",
       " (4416, 0.4926717883413431),\n",
       " (3691, 0.4832618803127605),\n",
       " (1346, 0.4744332706373172),\n",
       " (2977, 0.46808723325155527),\n",
       " (2418, 0.4549376285112747),\n",
       " (2510, 0.4549376285112747),\n",
       " (2710, 0.4549376285112747),\n",
       " (4230, 0.4549376285112747),\n",
       " (4594, 0.4549376285112747),\n",
       " (2514, 0.4542319654053181),\n",
       " (2952, 0.4530240060855),\n",
       " (3052, 0.4530240060855),\n",
       " (3252, 0.4530240060855),\n",
       " (4356, 0.4530240060855),\n",
       " (4731, 0.4530240060855)]"
      ]
     },
     "execution_count": 749,
     "metadata": {},
     "output_type": "execute_result"
    }
   ],
   "source": [
    "temp2[1:20]"
   ]
  },
  {
   "cell_type": "code",
   "execution_count": 750,
   "id": "6d638295",
   "metadata": {},
   "outputs": [],
   "source": [
    "temp3=[]\n",
    "for i in temp2[1:120]:\n",
    "    temp3.append(i[0])"
   ]
  },
  {
   "cell_type": "code",
   "execution_count": 751,
   "id": "abdd9070",
   "metadata": {},
   "outputs": [
    {
     "data": {
      "text/plain": [
       "[1743,\n",
       " 2511,\n",
       " 3692,\n",
       " 3987,\n",
       " 4416,\n",
       " 3691,\n",
       " 1346,\n",
       " 2977,\n",
       " 2418,\n",
       " 2510,\n",
       " 2710,\n",
       " 4230,\n",
       " 4594,\n",
       " 2514,\n",
       " 2952,\n",
       " 3052,\n",
       " 3252,\n",
       " 4356,\n",
       " 4731,\n",
       " 402,\n",
       " 1108,\n",
       " 1280,\n",
       " 1575,\n",
       " 1687,\n",
       " 1991,\n",
       " 2485,\n",
       " 2564,\n",
       " 3873,\n",
       " 4010,\n",
       " 4190,\n",
       " 1042,\n",
       " 4240,\n",
       " 1633,\n",
       " 1984,\n",
       " 2355,\n",
       " 1853,\n",
       " 2748,\n",
       " 4854,\n",
       " 2484,\n",
       " 2027,\n",
       " 4752,\n",
       " 4802,\n",
       " 2576,\n",
       " 4250,\n",
       " 2101,\n",
       " 156,\n",
       " 1215,\n",
       " 3719,\n",
       " 3852,\n",
       " 4310,\n",
       " 4109,\n",
       " 2904,\n",
       " 1896,\n",
       " 2548,\n",
       " 4312,\n",
       " 1883,\n",
       " 4625,\n",
       " 3202,\n",
       " 4510,\n",
       " 4521,\n",
       " 1747,\n",
       " 3639,\n",
       " 4751,\n",
       " 886,\n",
       " 325,\n",
       " 1257,\n",
       " 1442,\n",
       " 1654,\n",
       " 3967,\n",
       " 3366,\n",
       " 237,\n",
       " 3299,\n",
       " 184,\n",
       " 706,\n",
       " 4838,\n",
       " 4346,\n",
       " 4479,\n",
       " 1895,\n",
       " 4563,\n",
       " 2650,\n",
       " 2997,\n",
       " 3072,\n",
       " 1594,\n",
       " 3236,\n",
       " 4896,\n",
       " 205,\n",
       " 3460,\n",
       " 4074,\n",
       " 2681,\n",
       " 3211,\n",
       " 1571,\n",
       " 1863,\n",
       " 3292,\n",
       " 621,\n",
       " 3015,\n",
       " 4095,\n",
       " 1078,\n",
       " 2910,\n",
       " 3452,\n",
       " 3972,\n",
       " 4170,\n",
       " 3523,\n",
       " 3958,\n",
       " 375,\n",
       " 1669,\n",
       " 2646,\n",
       " 2656,\n",
       " 4100,\n",
       " 2954,\n",
       " 2159,\n",
       " 3199,\n",
       " 4122,\n",
       " 3253,\n",
       " 403,\n",
       " 2435,\n",
       " 2936,\n",
       " 718,\n",
       " 1953,\n",
       " 2870]"
      ]
     },
     "execution_count": 751,
     "metadata": {},
     "output_type": "execute_result"
    }
   ],
   "source": [
    "temp3"
   ]
  },
  {
   "cell_type": "code",
   "execution_count": 752,
   "id": "eb86c547",
   "metadata": {},
   "outputs": [
    {
     "data": {
      "text/html": [
       "<div>\n",
       "<style scoped>\n",
       "    .dataframe tbody tr th:only-of-type {\n",
       "        vertical-align: middle;\n",
       "    }\n",
       "\n",
       "    .dataframe tbody tr th {\n",
       "        vertical-align: top;\n",
       "    }\n",
       "\n",
       "    .dataframe thead th {\n",
       "        text-align: right;\n",
       "    }\n",
       "</style>\n",
       "<table border=\"1\" class=\"dataframe\">\n",
       "  <thead>\n",
       "    <tr style=\"text-align: right;\">\n",
       "      <th></th>\n",
       "      <th>id</th>\n",
       "      <th>pid</th>\n",
       "      <th>name</th>\n",
       "      <th>all_tags</th>\n",
       "    </tr>\n",
       "  </thead>\n",
       "  <tbody>\n",
       "    <tr>\n",
       "      <th>1743</th>\n",
       "      <td>68.0</td>\n",
       "      <td>0.0</td>\n",
       "      <td>Nicole by OPI Nail Lacquer</td>\n",
       "      <td>nicolebyopinaillacqu wal-mart walmart.com  pre...</td>\n",
       "    </tr>\n",
       "    <tr>\n",
       "      <th>2511</th>\n",
       "      <td>5.0</td>\n",
       "      <td>9.0</td>\n",
       "      <td>OPI Nail Polish 2019 Hello Kitty Holiday Colle...</td>\n",
       "      <td>opinailpolish2019hellokittyholidaycollectionhr...</td>\n",
       "    </tr>\n",
       "    <tr>\n",
       "      <th>3692</th>\n",
       "      <td>471.0</td>\n",
       "      <td>166.0</td>\n",
       "      <td>Coty OPI Nail Lacquer, 0.5 oz</td>\n",
       "      <td>cotyopinaillacqu 0.5oz wal-mart walmart.com  p...</td>\n",
       "    </tr>\n",
       "    <tr>\n",
       "      <th>3987</th>\n",
       "      <td>99.0</td>\n",
       "      <td>907.0</td>\n",
       "      <td>OPI Nail Lacquer I Drive A SuperNova HR G40 0.5oz</td>\n",
       "      <td>opinaillacqueridriveasupernovahrg400.5oz wal-m...</td>\n",
       "    </tr>\n",
       "    <tr>\n",
       "      <th>4416</th>\n",
       "      <td>7329.0</td>\n",
       "      <td>0.0</td>\n",
       "      <td>OPI Gel Polish 2019 Hello Kitty Holiday Collec...</td>\n",
       "      <td>opigelpolish2019hellokittyholidaycollectionhpl...</td>\n",
       "    </tr>\n",
       "    <tr>\n",
       "      <th>...</th>\n",
       "      <td>...</td>\n",
       "      <td>...</td>\n",
       "      <td>...</td>\n",
       "      <td>...</td>\n",
       "    </tr>\n",
       "    <tr>\n",
       "      <th>2435</th>\n",
       "      <td>31.0</td>\n",
       "      <td>92.0</td>\n",
       "      <td>Tip Beauty Press-On Nails, Clean Slate</td>\n",
       "      <td>tipbeautypress-onnail cleanslat wal-mart walma...</td>\n",
       "    </tr>\n",
       "    <tr>\n",
       "      <th>2936</th>\n",
       "      <td>71.0</td>\n",
       "      <td>9.0</td>\n",
       "      <td>Tip Beauty Press-On Nails, Electric Daisy</td>\n",
       "      <td>tipbeautypress-onnail electricdaisi wal-mart w...</td>\n",
       "    </tr>\n",
       "    <tr>\n",
       "      <th>718</th>\n",
       "      <td>721.0</td>\n",
       "      <td>7769.0</td>\n",
       "      <td>OPI GelColor Gel Nail Polish, Purple Palazzo P...</td>\n",
       "      <td>opigelcolorgelnailpolish purplepalazzop 0.5flo...</td>\n",
       "    </tr>\n",
       "    <tr>\n",
       "      <th>1953</th>\n",
       "      <td>9.0</td>\n",
       "      <td>7.0</td>\n",
       "      <td>OPI Gelcolor Gel Nail Polish, Funny Bunny, 0.5...</td>\n",
       "      <td>opigelcolorgelnailpolish funnybunni 0.5floz wa...</td>\n",
       "    </tr>\n",
       "    <tr>\n",
       "      <th>2870</th>\n",
       "      <td>622038.0</td>\n",
       "      <td>8.0</td>\n",
       "      <td>OPI GelColor Gel Nail Polish, Put It in Neutra...</td>\n",
       "      <td>opigelcolorgelnailpolish putitinneutr 0.5floz ...</td>\n",
       "    </tr>\n",
       "  </tbody>\n",
       "</table>\n",
       "<p>119 rows × 4 columns</p>\n",
       "</div>"
      ],
      "text/plain": [
       "            id     pid                                               name  \\\n",
       "1743      68.0     0.0                         Nicole by OPI Nail Lacquer   \n",
       "2511       5.0     9.0  OPI Nail Polish 2019 Hello Kitty Holiday Colle...   \n",
       "3692     471.0   166.0                      Coty OPI Nail Lacquer, 0.5 oz   \n",
       "3987      99.0   907.0  OPI Nail Lacquer I Drive A SuperNova HR G40 0.5oz   \n",
       "4416    7329.0     0.0  OPI Gel Polish 2019 Hello Kitty Holiday Collec...   \n",
       "...        ...     ...                                                ...   \n",
       "2435      31.0    92.0             Tip Beauty Press-On Nails, Clean Slate   \n",
       "2936      71.0     9.0          Tip Beauty Press-On Nails, Electric Daisy   \n",
       "718      721.0  7769.0  OPI GelColor Gel Nail Polish, Purple Palazzo P...   \n",
       "1953       9.0     7.0  OPI Gelcolor Gel Nail Polish, Funny Bunny, 0.5...   \n",
       "2870  622038.0     8.0  OPI GelColor Gel Nail Polish, Put It in Neutra...   \n",
       "\n",
       "                                               all_tags  \n",
       "1743  nicolebyopinaillacqu wal-mart walmart.com  pre...  \n",
       "2511  opinailpolish2019hellokittyholidaycollectionhr...  \n",
       "3692  cotyopinaillacqu 0.5oz wal-mart walmart.com  p...  \n",
       "3987  opinaillacqueridriveasupernovahrg400.5oz wal-m...  \n",
       "4416  opigelpolish2019hellokittyholidaycollectionhpl...  \n",
       "...                                                 ...  \n",
       "2435  tipbeautypress-onnail cleanslat wal-mart walma...  \n",
       "2936  tipbeautypress-onnail electricdaisi wal-mart w...  \n",
       "718   opigelcolorgelnailpolish purplepalazzop 0.5flo...  \n",
       "1953  opigelcolorgelnailpolish funnybunni 0.5floz wa...  \n",
       "2870  opigelcolorgelnailpolish putitinneutr 0.5floz ...  \n",
       "\n",
       "[119 rows x 4 columns]"
      ]
     },
     "execution_count": 752,
     "metadata": {},
     "output_type": "execute_result"
    }
   ],
   "source": [
    "new_df.iloc[temp3]"
   ]
  },
  {
   "cell_type": "code",
   "execution_count": null,
   "id": "c244feea",
   "metadata": {},
   "outputs": [],
   "source": []
  },
  {
   "cell_type": "code",
   "execution_count": null,
   "id": "af7b1f5b",
   "metadata": {},
   "outputs": [],
   "source": []
  },
  {
   "cell_type": "code",
   "execution_count": null,
   "id": "92be6b89",
   "metadata": {},
   "outputs": [],
   "source": []
  }
 ],
 "metadata": {
  "kernelspec": {
   "display_name": "Python 3 (ipykernel)",
   "language": "python",
   "name": "python3"
  },
  "language_info": {
   "codemirror_mode": {
    "name": "ipython",
    "version": 3
   },
   "file_extension": ".py",
   "mimetype": "text/x-python",
   "name": "python",
   "nbconvert_exporter": "python",
   "pygments_lexer": "ipython3",
   "version": "3.9.13"
  }
 },
 "nbformat": 4,
 "nbformat_minor": 5
}
